{
 "cells": [
  {
   "cell_type": "markdown",
   "id": "98c8dd26-d090-4f1a-9fea-6370263de949",
   "metadata": {},
   "source": [
    "# Variables in Python\n",
    "\n",
    "## Variables are used to store data.\n",
    "\n",
    "### Some examples of these are shown below:\n"
   ]
  },
  {
   "cell_type": "code",
   "execution_count": 1,
   "id": "b73c924c-ca88-44ca-933e-124fd12fc53b",
   "metadata": {},
   "outputs": [],
   "source": [
    "first_name = \"Alexander\"\n",
    "last_name = \"Fleming\"\n",
    "birth_year = 1881"
   ]
  }
 ],
 "metadata": {
  "kernelspec": {
   "display_name": "Python 3 (ipykernel)",
   "language": "python",
   "name": "python3"
  },
  "language_info": {
   "codemirror_mode": {
    "name": "ipython",
    "version": 3
   },
   "file_extension": ".py",
   "mimetype": "text/x-python",
   "name": "python",
   "nbconvert_exporter": "python",
   "pygments_lexer": "ipython3",
   "version": "3.11.0"
  }
 },
 "nbformat": 4,
 "nbformat_minor": 5
}
