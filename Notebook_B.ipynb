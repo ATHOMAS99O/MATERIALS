{
 "cells": [
  {
   "cell_type": "markdown",
   "id": "7fb52a28-53e6-4062-a2e8-508a86798db6",
   "metadata": {},
   "source": [
    "# Naming Variables\n",
    "\n",
    "## Naming variables sensibly makes you code readable.\n",
    "\n",
    "Some examples are shown below:\n"
   ]
  },
  {
   "cell_type": "code",
   "execution_count": 3,
   "id": "b73c924c-ca88-44ca-933e-124fd12fc53b",
   "metadata": {},
   "outputs": [],
   "source": [
    "first_name = \"Alexander\"\n",
    "last_name = \"Fleming\"\n",
    "birth_year = 1881\n",
    "birth_place = \"Edinburgh\""
   ]
  },
  {
   "cell_type": "code",
   "execution_count": 4,
   "id": "be9965cd-acac-4de7-942a-bb3b695f8149",
   "metadata": {},
   "outputs": [
    {
     "name": "stdout",
     "output_type": "stream",
     "text": [
      "Alexander Fleming was born in Edinburgh\n"
     ]
    }
   ],
   "source": [
    "print(f\"{first_name} {last_name} was born in {birth_place}\")"
   ]
  }
 ],
 "metadata": {
  "kernelspec": {
   "display_name": "Python 3 (ipykernel)",
   "language": "python",
   "name": "python3"
  },
  "language_info": {
   "codemirror_mode": {
    "name": "ipython",
    "version": 3
   },
   "file_extension": ".py",
   "mimetype": "text/x-python",
   "name": "python",
   "nbconvert_exporter": "python",
   "pygments_lexer": "ipython3",
   "version": "3.11.0"
  }
 },
 "nbformat": 4,
 "nbformat_minor": 5
}
