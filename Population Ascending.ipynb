{
 "cells": [
  {
   "cell_type": "code",
   "execution_count": 5,
   "id": "a76370c7-7fd5-403c-95cd-81b70966a1db",
   "metadata": {},
   "outputs": [
    {
     "data": {
      "text/plain": [
       "[('South America', 0.44),\n",
       " ('Australia', 0.46),\n",
       " ('North America', 0.6),\n",
       " ('Europe', 0.74),\n",
       " ('Africa', 1.46),\n",
       " ('Asia', 4.75)]"
      ]
     },
     "execution_count": 5,
     "metadata": {},
     "output_type": "execute_result"
    }
   ],
   "source": [
    "from operator import itemgetter\n",
    "\n",
    "sorted(world_populations.items(), key=itemgetter(1))"
   ]
  },
  {
   "cell_type": "code",
   "execution_count": null,
   "id": "178cc47c-faa8-47c3-ae2e-4bc6f4a91dcb",
   "metadata": {},
   "outputs": [],
   "source": []
  },
  {
   "cell_type": "code",
   "execution_count": null,
   "id": "d0966e52-d489-4519-8c21-1147f6b01f7b",
   "metadata": {},
   "outputs": [],
   "source": []
  }
 ],
 "metadata": {
  "kernelspec": {
   "display_name": "Python 3 (ipykernel)",
   "language": "python",
   "name": "python3"
  },
  "language_info": {
   "codemirror_mode": {
    "name": "ipython",
    "version": 3
   },
   "file_extension": ".py",
   "mimetype": "text/x-python",
   "name": "python",
   "nbconvert_exporter": "python",
   "pygments_lexer": "ipython3",
   "version": "3.11.0"
  }
 },
 "nbformat": 4,
 "nbformat_minor": 5
}
