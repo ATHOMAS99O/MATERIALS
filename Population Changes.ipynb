{
 "cells": [
  {
   "cell_type": "markdown",
   "id": "5845722b-afb4-47db-99ee-c59217552065",
   "metadata": {},
   "source": [
    "### Population Changes Since 1980\n",
    "\n",
    "The data shown below shows the decade-on-decade increases in the\n",
    "[world's population](https://www.worldometers.info/world-population/world-population-by-year/)\n",
    "since 1980."
   ]
  },
  {
   "cell_type": "code",
   "execution_count": 6,
   "id": "4db0c4f2-ba67-4854-9f6b-2e2ca724971f",
   "metadata": {},
   "outputs": [],
   "source": [
    "def calculate_differences(data_set):\n",
    "    differences = [\n",
    "        0,\n",
    "    ]\n",
    "    for index in range(1, len(data_set)):\n",
    "        differences.append(round(data_set[index] - data_set[index - 1], 1))\n",
    "    return differences\n",
    "\n",
    "\n",
    "population_change = calculate_differences(population)"
   ]
  },
  {
   "cell_type": "code",
   "execution_count": 7,
   "id": "0822c8a4-829a-4806-b965-b2a88cf8798c",
   "metadata": {},
   "outputs": [
    {
     "name": "stdout",
     "output_type": "stream",
     "text": [
      "   Decade  Population(Bn)  Change\n",
      "0    1980             4.4     0.0\n",
      "1    1990             5.3     0.9\n",
      "2    2000             6.1     0.8\n",
      "3    2010             7.0     0.9\n",
      "4    2020             7.8     0.8\n"
     ]
    }
   ],
   "source": [
    "import pandas as pd\n",
    "\n",
    "zipped = list(zip(decades, population, population_change))\n",
    "\n",
    "population_df = pd.DataFrame(\n",
    "    zipped, columns=(\"Decade\", \"Population(Bn)\", \"Change\")\n",
    ")\n",
    "\n",
    "print(population_df)"
   ]
  },
  {
   "cell_type": "code",
   "execution_count": null,
   "id": "5f6adfcc-16af-4f91-a2ef-034a79c9b675",
   "metadata": {},
   "outputs": [],
   "source": []
  }
 ],
 "metadata": {
  "kernelspec": {
   "display_name": "Python 3 (ipykernel)",
   "language": "python",
   "name": "python3"
  },
  "language_info": {
   "codemirror_mode": {
    "name": "ipython",
    "version": 3
   },
   "file_extension": ".py",
   "mimetype": "text/x-python",
   "name": "python",
   "nbconvert_exporter": "python",
   "pygments_lexer": "ipython3",
   "version": "3.11.0"
  }
 },
 "nbformat": 4,
 "nbformat_minor": 5
}
