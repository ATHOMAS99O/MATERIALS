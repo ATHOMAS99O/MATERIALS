{
 "cells": [
  {
   "cell_type": "code",
   "execution_count": 4,
   "id": "eb92a4fe-f915-48dc-8e31-87e6365f84b6",
   "metadata": {},
   "outputs": [],
   "source": [
    "world_populations = {\n",
    "    'Asia' : 4.75,\n",
    "    'Africa' : 1.46, \n",
    "    'Europe': 0.74, \n",
    "    'North America' : 0.60,\n",
    "    'South America' : 0.44,\n",
    "    'Australia': 0.46\n",
    "}"
   ]
  },
  {
   "cell_type": "code",
   "execution_count": null,
   "id": "cfeb4729-25ab-4fca-a27c-72dd44e4e1cf",
   "metadata": {},
   "outputs": [],
   "source": []
  }
 ],
 "metadata": {
  "kernelspec": {
   "display_name": "Python 3 (ipykernel)",
   "language": "python",
   "name": "python3"
  },
  "language_info": {
   "codemirror_mode": {
    "name": "ipython",
    "version": 3
   },
   "file_extension": ".py",
   "mimetype": "text/x-python",
   "name": "python",
   "nbconvert_exporter": "python",
   "pygments_lexer": "ipython3",
   "version": "3.11.0"
  }
 },
 "nbformat": 4,
 "nbformat_minor": 5
}
