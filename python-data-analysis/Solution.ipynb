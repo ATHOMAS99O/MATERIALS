{
 "cells": [
  {
   "cell_type": "markdown",
   "id": "83ad2114-5ed8-4a90-85fa-adea5eda4392",
   "metadata": {},
   "source": [
    "## Reading Data From CSV Files"
   ]
  },
  {
   "cell_type": "code",
   "execution_count": null,
   "id": "a360772e-7829-4c15-9af9-d4596efc7351",
   "metadata": {},
   "outputs": [],
   "source": [
    "! python -m pip install pandas"
   ]
  },
  {
   "cell_type": "code",
   "execution_count": null,
   "id": "1148ca58-9a4d-42ed-a43a-e3b8b3359c2d",
   "metadata": {},
   "outputs": [],
   "source": [
    "import pandas as pd\n",
    "\n",
    "james_bond_df = pd.read_csv(\"james_bond_data.csv\")\n",
    "james_bond_df.head()"
   ]
  },
  {
   "cell_type": "markdown",
   "id": "e47c1f9b-b390-4035-956b-622615b57f32",
   "metadata": {},
   "source": [
    "## Reading Data From Other Sources"
   ]
  },
  {
   "cell_type": "markdown",
   "id": "47a0e4a6-0ed9-4253-9833-0ad22c49b968",
   "metadata": {},
   "source": [
    "### Reading Excel"
   ]
  },
  {
   "cell_type": "code",
   "execution_count": null,
   "id": "a0364b81-64a0-4098-89fc-e58bd6d68257",
   "metadata": {},
   "outputs": [],
   "source": [
    "! python -m pip install openpyxl"
   ]
  },
  {
   "cell_type": "code",
   "execution_count": null,
   "id": "8302139f-52dc-4f95-aa9a-96040ae5d82b",
   "metadata": {},
   "outputs": [],
   "source": [
    "import openpyxl\n",
    "import pandas as pd\n",
    "\n",
    "james_bond_df_excel = pd.read_excel(\"james_bond_data.xlsx\")\n",
    "james_bond_df_excel.head()"
   ]
  },
  {
   "cell_type": "markdown",
   "id": "1d85aee9-cfeb-460b-9fe8-f3c7e7dfb764",
   "metadata": {},
   "source": [
    "### Reading JSON"
   ]
  },
  {
   "cell_type": "code",
   "execution_count": null,
   "id": "7465cd11-dad4-4741-9372-f825b28c33d6",
   "metadata": {
    "jupyter": {
     "source_hidden": true
    }
   },
   "outputs": [],
   "source": [
    "james_bond_df_json = pd.read_json(\"james_bond_data.json\")\n",
    "james_bond_df_json.head()"
   ]
  },
  {
   "cell_type": "markdown",
   "id": "69f884c2-92e8-4db3-bd63-84007f654808",
   "metadata": {},
   "source": [
    "### Scraping HTML"
   ]
  },
  {
   "cell_type": "code",
   "execution_count": null,
   "id": "b902722d-9648-4124-80b0-64004342170d",
   "metadata": {},
   "outputs": [],
   "source": [
    "!python -m pip install lxml"
   ]
  },
  {
   "cell_type": "code",
   "execution_count": null,
   "id": "1fb2ff9c-3030-4f4a-be30-c2ab68452a21",
   "metadata": {},
   "outputs": [],
   "source": [
    "james_bond_df_html = pd.read_html(\n",
    "    \"https://en.wikipedia.org/wiki/List_of_James_Bond_novels_and_short_stories\"\n",
    ")\n",
    "james_bond_df_html[1].head()"
   ]
  },
  {
   "cell_type": "markdown",
   "id": "be4a1143-c966-4056-8a5e-3bdebe2a9b1f",
   "metadata": {},
   "source": [
    "### Reading Parquet"
   ]
  },
  {
   "cell_type": "code",
   "execution_count": null,
   "id": "f36ef600-e6ba-4cc6-9ee3-0cbf369a4be2",
   "metadata": {},
   "outputs": [],
   "source": [
    "!python -m pip install pyarrow"
   ]
  },
  {
   "cell_type": "code",
   "execution_count": null,
   "id": "bd6f496d-aa94-43ce-9e97-6f01108df47b",
   "metadata": {},
   "outputs": [],
   "source": [
    "james_bond_df_parquet = pd.read_parquet(\"james_bond_data.parquet\")\n",
    "james_bond_df_parquet.head()"
   ]
  },
  {
   "cell_type": "markdown",
   "id": "e432b28e-257b-422b-b2f8-06f41608391b",
   "metadata": {},
   "source": [
    "## Dealing With Missing Data and Invalid Data Types"
   ]
  },
  {
   "cell_type": "code",
   "execution_count": null,
   "id": "38eb1abb-9f89-4a53-9e77-f7c71dbeff18",
   "metadata": {},
   "outputs": [],
   "source": [
    "james_bond_df.info()"
   ]
  },
  {
   "cell_type": "code",
   "execution_count": null,
   "id": "b29d5a34-c930-4ce2-898c-b9e8aa7f771d",
   "metadata": {},
   "outputs": [],
   "source": [
    "james_bond_df[james_bond_df.isna().any(axis=\"columns\")]"
   ]
  },
  {
   "cell_type": "code",
   "execution_count": null,
   "id": "1db9201a-11c1-4cdd-9625-d70cee736191",
   "metadata": {},
   "outputs": [],
   "source": [
    "james_bond_df.at[10, \"Avg_User_IMDB\"] = 7.1\n",
    "james_bond_df.at[10, \"Avg_User_Rtn_Tom\"] = 6.8"
   ]
  },
  {
   "cell_type": "code",
   "execution_count": null,
   "id": "001996e3-2fce-4228-a873-b78eef613bba",
   "metadata": {},
   "outputs": [],
   "source": [
    "james_bond_df[[\"US_Gross\", \"World_Gross\", \"Budget ($ 000s)\", \"Film_Length\"]].head()"
   ]
  },
  {
   "cell_type": "code",
   "execution_count": null,
   "id": "880e4710-1c11-4de2-a2c3-97a9672ce6f7",
   "metadata": {},
   "outputs": [],
   "source": [
    "james_bond_df[\"US_Gross\"] = (\n",
    "    james_bond_df[\"US_Gross\"].replace(\"[$,]\", \"\", regex=True)\n",
    ").astype(float)\n",
    "\n",
    "james_bond_df[\"World_Gross\"] = (\n",
    "    james_bond_df[\"World_Gross\"].replace(\"[$,]\", \"\", regex=True)\n",
    ").astype(float)\n",
    "\n",
    "james_bond_df[\"Budget ($ 000s)\"] = (\n",
    "    james_bond_df[\"Budget ($ 000s)\"].replace(\"[$,]\", \"\", regex=True)\n",
    ").astype(float)"
   ]
  },
  {
   "cell_type": "code",
   "execution_count": null,
   "id": "ae9c1d1b-a620-43c5-a199-eb6a7bff7ce2",
   "metadata": {},
   "outputs": [],
   "source": [
    "james_bond_df[\"Film_Length\"] = (\n",
    "    james_bond_df[\"Film_Length\"].str.rstrip(\"mins\").astype(int)\n",
    ")"
   ]
  },
  {
   "cell_type": "code",
   "execution_count": null,
   "id": "ed0ead0e-7310-4c82-86d5-2480a95f1525",
   "metadata": {},
   "outputs": [],
   "source": [
    "james_bond_df[\"Release\"] = pd.to_datetime(james_bond_df[\"Release\"], format=\"%B, %Y\")\n",
    "james_bond_df[\"Release_Year\"] = james_bond_df[\"Release\"].dt.year"
   ]
  },
  {
   "cell_type": "markdown",
   "id": "89653d81-3bcd-4078-83cb-ad4b2fa560e6",
   "metadata": {},
   "source": [
    "## Dealing With Inconsistencies in Data"
   ]
  },
  {
   "cell_type": "code",
   "execution_count": null,
   "id": "bc483320-7895-4368-a672-b98f8d0c9755",
   "metadata": {},
   "outputs": [],
   "source": [
    "james_bond_df[\"Budget ($ 000s)\"] = james_bond_df[\"Budget ($ 000s)\"] * 1000\n",
    "james_bond_df.rename(columns={\"Budget ($ 000s)\": \"Budget\"}, inplace=True)"
   ]
  },
  {
   "cell_type": "markdown",
   "id": "3e129b32-5e66-41cb-b938-8fd58bb94116",
   "metadata": {},
   "source": [
    "## Removing Duplicate Data"
   ]
  },
  {
   "cell_type": "code",
   "execution_count": null,
   "id": "be7aad8b-ef3f-48a6-a9a0-de909133921f",
   "metadata": {},
   "outputs": [],
   "source": [
    "james_bond_df[\"Movie\"].value_counts().head()"
   ]
  },
  {
   "cell_type": "code",
   "execution_count": null,
   "id": "20067efb-e7c7-4690-b483-1d29847ad24f",
   "metadata": {},
   "outputs": [],
   "source": [
    "\n",
    "duplicate_movies = [\"The Man with the Golden Gun\", \"The Living Daylights\"]\n",
    "james_bond_df[james_bond_df[\"Movie\"].isin(duplicate_movies)]"
   ]
  },
  {
   "cell_type": "code",
   "execution_count": null,
   "id": "c98c7640-1472-4869-9fdd-f070d665ae1d",
   "metadata": {},
   "outputs": [],
   "source": [
    "james_bond_df.drop_duplicates(inplace=True, ignore_index=True)"
   ]
  },
  {
   "cell_type": "markdown",
   "id": "8bdaa8b1-9f2e-46a5-b53a-c1ae4c201c99",
   "metadata": {},
   "source": [
    "## Removing Typos"
   ]
  },
  {
   "cell_type": "code",
   "execution_count": null,
   "id": "e442e51a-28fd-42d7-94b0-aaf1abe5d9a8",
   "metadata": {},
   "outputs": [],
   "source": [
    "james_bond_df[\"Bond\"].value_counts()"
   ]
  },
  {
   "cell_type": "code",
   "execution_count": null,
   "id": "f9863aa7-b5db-4ab1-be63-727ff437b63b",
   "metadata": {},
   "outputs": [],
   "source": [
    "james_bond_df[\"Bond\"] = james_bond_df[\"Bond\"].str.replace(\"Shawn\", \"Sean\")\n",
    "james_bond_df[\"Bond\"] = james_bond_df[\"Bond\"].str.replace(\"MOORE\", \"Moore\")"
   ]
  },
  {
   "cell_type": "code",
   "execution_count": null,
   "id": "25da4a99-6b90-4785-aaa4-48bed819e9be",
   "metadata": {},
   "outputs": [],
   "source": [
    "james_bond_df[\"Bond\"].value_counts()"
   ]
  },
  {
   "cell_type": "code",
   "execution_count": null,
   "id": "a26b138d-72e5-4e15-a875-ee65023545d1",
   "metadata": {},
   "outputs": [],
   "source": [
    "james_bond_df[\"Bond_Car_MFG\"].value_counts()"
   ]
  },
  {
   "cell_type": "code",
   "execution_count": null,
   "id": "8260f6b1-6d7f-4338-95b7-8946d69a92e2",
   "metadata": {},
   "outputs": [],
   "source": [
    "james_bond_df[\"Bond_Car_MFG\"] = james_bond_df[\"Bond_Car_MFG\"].str.replace(\"Astin\", \"Aston\")"
   ]
  },
  {
   "cell_type": "markdown",
   "id": "50c80bc8-fdb9-4c28-af5a-cd6b66c7a01d",
   "metadata": {},
   "source": [
    "## Checking for Invalid Outliers"
   ]
  },
  {
   "cell_type": "code",
   "execution_count": null,
   "id": "81338285-2067-46fc-82f8-360d92ec7153",
   "metadata": {},
   "outputs": [],
   "source": [
    "james_bond_df[[\"Film_Length\", \"Martinis\"]].describe()"
   ]
  },
  {
   "cell_type": "code",
   "execution_count": null,
   "id": "d84acfc8-fb2d-4c45-bfac-20469fc1de97",
   "metadata": {},
   "outputs": [],
   "source": [
    "james_bond_df[\"Film_Length\"].replace(1200, 120, inplace=True)\n",
    "james_bond_df[\"Martinis\"].replace(-6, 6, inplace=True)"
   ]
  },
  {
   "cell_type": "markdown",
   "id": "52db1351-36ed-4104-a999-345ebbc62214",
   "metadata": {},
   "source": [
    "## Storing Your Cleansed Data"
   ]
  },
  {
   "cell_type": "code",
   "execution_count": null,
   "id": "575a774e-6913-41fb-8ff9-4d786f478007",
   "metadata": {},
   "outputs": [],
   "source": [
    "james_bond_df.to_csv(\"james_bond_data_cleansed.csv\", index=False)"
   ]
  },
  {
   "cell_type": "markdown",
   "id": "f50918ee-e61f-46b2-b0c2-1ffa2c62bbc0",
   "metadata": {},
   "source": [
    "## Using Python for Data Analysis"
   ]
  },
  {
   "cell_type": "code",
   "execution_count": null,
   "id": "bee6d6cb-e418-4c1d-8b75-604b9ab2e63d",
   "metadata": {},
   "outputs": [],
   "source": [
    "!python -m pip install matplotlib scikit-learn numpy"
   ]
  },
  {
   "cell_type": "markdown",
   "id": "0246dcb1-88fc-4a3e-acc1-571037390e09",
   "metadata": {},
   "source": [
    "## Performing a Regression Analysis"
   ]
  },
  {
   "cell_type": "code",
   "execution_count": null,
   "id": "27d0a3dd-e71a-4b8a-883c-40cb5c001f7e",
   "metadata": {},
   "outputs": [],
   "source": [
    "import matplotlib.pyplot as plt\n",
    "\n",
    "#x = james_bond_df[\"Avg_User_IMDB\"].values.reshape(-1, 1)\n",
    "#y = james_bond_df[\"Avg_User_Rtn_Tom\"].values.reshape(-1, 1)\n",
    "\n",
    "x = james_bond_df[\"Avg_User_IMDB\"].array.reshape(-1, 1)\n",
    "y = james_bond_df[\"Avg_User_Rtn_Tom\"].array.reshape(-1, 1)\n",
    "\n",
    "plt.title(\"Scatter Plot of Ratings.\")\n",
    "plt.xlabel(\"Average IMDb Rating\")\n",
    "plt.ylabel(\"Average Rotten Tomatoes Rating\")\n",
    "plt.scatter(x, y)"
   ]
  },
  {
   "cell_type": "code",
   "execution_count": null,
   "id": "669fb9d7-d744-4e6b-899e-a69aebec53ed",
   "metadata": {},
   "outputs": [],
   "source": [
    "from sklearn.linear_model import LinearRegression\n",
    "import matplotlib.pyplot as plt\n",
    "\n",
    "x = james_bond_df[\"Avg_User_IMDB\"].array.reshape(-1, 1)\n",
    "y = james_bond_df[\"Avg_User_Rtn_Tom\"].array.reshape(-1, 1)\n",
    "\n",
    "model = LinearRegression()\n",
    "model.fit(x, y)\n",
    "\n",
    "r_squared = f\"R-Squared: {round(model.score(x, y),2)}\"\n",
    "best_fit_equation = f\"y={round(model.coef_[0][0], 4)}x{round(model.intercept_[0], 4)}\"\n",
    "y_pred = model.predict(x)\n",
    "\n",
    "plt.title(\"Scatter Plot of Ratings.\")\n",
    "plt.xlabel(\"Average IMDb Rating\")\n",
    "plt.ylabel(\"Average Rotten Tomatoes Rating\")\n",
    "plt.scatter(x, y)\n",
    "plt.text(7.25, 5.5, r_squared, fontsize=10)\n",
    "plt.text(7.25, 7, best_fit_equation, fontsize=10)\n",
    "plt.plot(x, y_pred, color=\"red\")"
   ]
  },
  {
   "cell_type": "markdown",
   "id": "b38df412-c320-49fb-93ae-e253405537a8",
   "metadata": {},
   "source": [
    "## Investigating a Statistical Distribution"
   ]
  },
  {
   "cell_type": "code",
   "execution_count": null,
   "id": "938e5942-e57f-4e41-99f1-215cfb37d0df",
   "metadata": {},
   "outputs": [],
   "source": [
    "film_length_groups = james_bond_df[\"Film_Length\"].value_counts(bins=7, sort=False)\n",
    "film_length_groups.plot(kind=\"bar\", title=\"Film Length Distribution\").set(\n",
    "    xlabel=\"Time Range (mins)\", ylabel=\"Count\"\n",
    ")"
   ]
  },
  {
   "cell_type": "code",
   "execution_count": null,
   "id": "ff4e9955-baf4-48eb-b032-fbf55f439194",
   "metadata": {},
   "outputs": [],
   "source": [
    "james_bond_df[\"Film_Length\"].agg([\"mean\", \"max\", \"min\", \"std\"])"
   ]
  },
  {
   "cell_type": "markdown",
   "id": "1b14c433-c3a6-4484-bc0a-26825bd1e870",
   "metadata": {},
   "source": [
    "## Finding No Relationship"
   ]
  },
  {
   "cell_type": "code",
   "execution_count": null,
   "id": "2bb83374-347f-4cf6-bc21-8180a003371d",
   "metadata": {},
   "outputs": [],
   "source": [
    "x = james_bond_df[\"Avg_User_IMDB\"].array.reshape(-1, 1)\n",
    "y = james_bond_df[\"Kills_Bond\"].array.reshape(-1, 1)\n",
    "\n",
    "plt.title(\"Scatter Plot of Kills vs Ratings.\")\n",
    "plt.xlabel(\"Average IMDb Rating\")\n",
    "plt.ylabel(\"Kills By Bond\")\n",
    "plt.scatter(x, y)"
   ]
  }
 ],
 "metadata": {
  "kernelspec": {
   "display_name": "Python 3 (ipykernel)",
   "language": "python",
   "name": "python3"
  },
  "language_info": {
   "codemirror_mode": {
    "name": "ipython",
    "version": 3
   },
   "file_extension": ".py",
   "mimetype": "text/x-python",
   "name": "python",
   "nbconvert_exporter": "python",
   "pygments_lexer": "ipython3",
   "version": "3.12.0"
  }
 },
 "nbformat": 4,
 "nbformat_minor": 5
}
