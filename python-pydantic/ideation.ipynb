{
 "cells": [
  {
   "cell_type": "markdown",
   "metadata": {},
   "source": [
    "### Models"
   ]
  },
  {
   "cell_type": "code",
   "execution_count": 25,
   "metadata": {},
   "outputs": [],
   "source": [
    "from pydantic import BaseModel, EmailStr\n",
    "from datetime import date\n",
    "from uuid import UUID, uuid4"
   ]
  },
  {
   "cell_type": "code",
   "execution_count": 28,
   "metadata": {},
   "outputs": [],
   "source": [
    "class Employee(BaseModel):\n",
    "    employee_id: UUID = uuid4()\n",
    "    first_name: str\n",
    "    last_name: str\n",
    "    email: EmailStr\n",
    "    date_of_birth: date\n",
    "    salary: float\n",
    "    department: str"
   ]
  },
  {
   "cell_type": "markdown",
   "metadata": {},
   "source": [
    "In this example, user is an instance of User. Initialization of the object will perform all parsing and validation. If no ValidationError is raised, you know the resulting model instance is valid."
   ]
  },
  {
   "cell_type": "code",
   "execution_count": 30,
   "metadata": {},
   "outputs": [
    {
     "data": {
      "text/plain": [
       "Employee(employee_id=UUID('64f0fc09-8ab6-4124-9a8f-5f775f670f1b'), first_name='Chris', last_name='DeTuma', email='cdetuma@fakeprovider.com', date_of_birth=datetime.date(1998, 9, 23), salary=50000.0, department='engineering')"
      ]
     },
     "execution_count": 30,
     "metadata": {},
     "output_type": "execute_result"
    }
   ],
   "source": [
    "employee = Employee(\n",
    "    first_name=\"Chris\",\n",
    "    last_name=\"DeTuma\",\n",
    "    email=\"cdetuma@fakeprovider.com\",\n",
    "    date_of_birth=\"1998-09-23\",\n",
    "    salary=50000,\n",
    "    department=\"engineering\"\n",
    ")\n",
    "employee"
   ]
  },
  {
   "cell_type": "code",
   "execution_count": 36,
   "metadata": {},
   "outputs": [
    {
     "ename": "ValidationError",
     "evalue": "3 validation errors for Employee\nemployee_id\n  Input should be a valid UUID, invalid length: expected length 32 for simple format, found 2 [type=uuid_parsing, input_value='43', input_type=str]\n    For further information visit https://errors.pydantic.dev/2.5/v/uuid_parsing\nemail\n  value is not a valid email address: The email address is not valid. It must have exactly one @-sign. [type=value_error, input_value='cdetumafakeprovider.invalid', input_type=str]\ndate_of_birth\n  Input should be a valid date or datetime, invalid datetime separator, expected `T`, `t`, `_` or space [type=date_from_datetime_parsing, input_value='1998-09-233', input_type=str]\n    For further information visit https://errors.pydantic.dev/2.5/v/date_from_datetime_parsing",
     "output_type": "error",
     "traceback": [
      "\u001b[0;31m---------------------------------------------------------------------------\u001b[0m",
      "\u001b[0;31mValidationError\u001b[0m                           Traceback (most recent call last)",
      "\u001b[1;32m/Users/HarrisonHoffman/Desktop/DataScience/materials/python-pydantic/ideation.ipynb Cell 6\u001b[0m line \u001b[0;36m1\n\u001b[0;32m----> <a href='vscode-notebook-cell:/Users/HarrisonHoffman/Desktop/DataScience/materials/python-pydantic/ideation.ipynb#W6sZmlsZQ%3D%3D?line=0'>1</a>\u001b[0m employee \u001b[39m=\u001b[39m Employee(\n\u001b[1;32m      <a href='vscode-notebook-cell:/Users/HarrisonHoffman/Desktop/DataScience/materials/python-pydantic/ideation.ipynb#W6sZmlsZQ%3D%3D?line=1'>2</a>\u001b[0m     employee_id\u001b[39m=\u001b[39;49m\u001b[39m\"\u001b[39;49m\u001b[39m43\u001b[39;49m\u001b[39m\"\u001b[39;49m,\n\u001b[1;32m      <a href='vscode-notebook-cell:/Users/HarrisonHoffman/Desktop/DataScience/materials/python-pydantic/ideation.ipynb#W6sZmlsZQ%3D%3D?line=2'>3</a>\u001b[0m     first_name\u001b[39m=\u001b[39;49m\u001b[39m\"\u001b[39;49m\u001b[39mChris\u001b[39;49m\u001b[39m\"\u001b[39;49m,\n\u001b[1;32m      <a href='vscode-notebook-cell:/Users/HarrisonHoffman/Desktop/DataScience/materials/python-pydantic/ideation.ipynb#W6sZmlsZQ%3D%3D?line=3'>4</a>\u001b[0m     last_name\u001b[39m=\u001b[39;49m\u001b[39m\"\u001b[39;49m\u001b[39mDeTuma\u001b[39;49m\u001b[39m\"\u001b[39;49m,\n\u001b[1;32m      <a href='vscode-notebook-cell:/Users/HarrisonHoffman/Desktop/DataScience/materials/python-pydantic/ideation.ipynb#W6sZmlsZQ%3D%3D?line=4'>5</a>\u001b[0m     email\u001b[39m=\u001b[39;49m\u001b[39m\"\u001b[39;49m\u001b[39mcdetumafakeprovider.invalid\u001b[39;49m\u001b[39m\"\u001b[39;49m,\n\u001b[1;32m      <a href='vscode-notebook-cell:/Users/HarrisonHoffman/Desktop/DataScience/materials/python-pydantic/ideation.ipynb#W6sZmlsZQ%3D%3D?line=5'>6</a>\u001b[0m     date_of_birth\u001b[39m=\u001b[39;49m\u001b[39m\"\u001b[39;49m\u001b[39m1998-09-233\u001b[39;49m\u001b[39m\"\u001b[39;49m,\n\u001b[1;32m      <a href='vscode-notebook-cell:/Users/HarrisonHoffman/Desktop/DataScience/materials/python-pydantic/ideation.ipynb#W6sZmlsZQ%3D%3D?line=6'>7</a>\u001b[0m     salary\u001b[39m=\u001b[39;49m\u001b[39m50000\u001b[39;49m,\n\u001b[1;32m      <a href='vscode-notebook-cell:/Users/HarrisonHoffman/Desktop/DataScience/materials/python-pydantic/ideation.ipynb#W6sZmlsZQ%3D%3D?line=7'>8</a>\u001b[0m     department\u001b[39m=\u001b[39;49m\u001b[39m\"\u001b[39;49m\u001b[39mengineering\u001b[39;49m\u001b[39m\"\u001b[39;49m\n\u001b[1;32m      <a href='vscode-notebook-cell:/Users/HarrisonHoffman/Desktop/DataScience/materials/python-pydantic/ideation.ipynb#W6sZmlsZQ%3D%3D?line=8'>9</a>\u001b[0m )\n\u001b[1;32m     <a href='vscode-notebook-cell:/Users/HarrisonHoffman/Desktop/DataScience/materials/python-pydantic/ideation.ipynb#W6sZmlsZQ%3D%3D?line=9'>10</a>\u001b[0m employee\n",
      "File \u001b[0;32m~/Desktop/DataScience/envs/lc_rp_dev/lib/python3.11/site-packages/pydantic/main.py:164\u001b[0m, in \u001b[0;36mBaseModel.__init__\u001b[0;34m(__pydantic_self__, **data)\u001b[0m\n\u001b[1;32m    162\u001b[0m \u001b[39m# `__tracebackhide__` tells pytest and some other tools to omit this function from tracebacks\u001b[39;00m\n\u001b[1;32m    163\u001b[0m __tracebackhide__ \u001b[39m=\u001b[39m \u001b[39mTrue\u001b[39;00m\n\u001b[0;32m--> 164\u001b[0m __pydantic_self__\u001b[39m.\u001b[39;49m__pydantic_validator__\u001b[39m.\u001b[39;49mvalidate_python(data, self_instance\u001b[39m=\u001b[39;49m__pydantic_self__)\n",
      "\u001b[0;31mValidationError\u001b[0m: 3 validation errors for Employee\nemployee_id\n  Input should be a valid UUID, invalid length: expected length 32 for simple format, found 2 [type=uuid_parsing, input_value='43', input_type=str]\n    For further information visit https://errors.pydantic.dev/2.5/v/uuid_parsing\nemail\n  value is not a valid email address: The email address is not valid. It must have exactly one @-sign. [type=value_error, input_value='cdetumafakeprovider.invalid', input_type=str]\ndate_of_birth\n  Input should be a valid date or datetime, invalid datetime separator, expected `T`, `t`, `_` or space [type=date_from_datetime_parsing, input_value='1998-09-233', input_type=str]\n    For further information visit https://errors.pydantic.dev/2.5/v/date_from_datetime_parsing"
     ]
    }
   ],
   "source": [
    "employee = Employee(\n",
    "    employee_id=\"43\",\n",
    "    first_name=\"Chris\",\n",
    "    last_name=\"DeTuma\",\n",
    "    email=\"cdetumafakeprovider.invalid\",\n",
    "    date_of_birth=\"1998-09-233\",\n",
    "    salary=50000,\n",
    "    department=\"engineering\"\n",
    ")\n",
    "employee"
   ]
  },
  {
   "cell_type": "code",
   "execution_count": 37,
   "metadata": {},
   "outputs": [
    {
     "data": {
      "text/plain": [
       "{'employee_id': UUID('af47b66b-72f8-42e2-a40f-4139fcdbfa3d'),\n",
       " 'first_name': 'Chris',\n",
       " 'last_name': 'DeTuma',\n",
       " 'email': 'cdetuma@fakeprovider.com',\n",
       " 'date_of_birth': datetime.date(1998, 9, 23),\n",
       " 'salary': 50000.0,\n",
       " 'department': 'engineering'}"
      ]
     },
     "execution_count": 37,
     "metadata": {},
     "output_type": "execute_result"
    }
   ],
   "source": [
    "employee.model_dump()"
   ]
  },
  {
   "cell_type": "code",
   "execution_count": 38,
   "metadata": {},
   "outputs": [
    {
     "data": {
      "text/plain": [
       "'{\"employee_id\":\"af47b66b-72f8-42e2-a40f-4139fcdbfa3d\",\"first_name\":\"Chris\",\"last_name\":\"DeTuma\",\"email\":\"cdetuma@fakeprovider.com\",\"date_of_birth\":\"1998-09-23\",\"salary\":50000.0,\"department\":\"engineering\"}'"
      ]
     },
     "execution_count": 38,
     "metadata": {},
     "output_type": "execute_result"
    }
   ],
   "source": [
    "employee.model_dump_json()"
   ]
  },
  {
   "cell_type": "code",
   "execution_count": 39,
   "metadata": {},
   "outputs": [
    {
     "ename": "ValidationError",
     "evalue": "6 validation errors for Employee\nfirst_name\n  Field required [type=missing, input_value={'id': 1, 'name': 'bitch'}, input_type=dict]\n    For further information visit https://errors.pydantic.dev/2.5/v/missing\nlast_name\n  Field required [type=missing, input_value={'id': 1, 'name': 'bitch'}, input_type=dict]\n    For further information visit https://errors.pydantic.dev/2.5/v/missing\nemail\n  Field required [type=missing, input_value={'id': 1, 'name': 'bitch'}, input_type=dict]\n    For further information visit https://errors.pydantic.dev/2.5/v/missing\ndate_of_birth\n  Field required [type=missing, input_value={'id': 1, 'name': 'bitch'}, input_type=dict]\n    For further information visit https://errors.pydantic.dev/2.5/v/missing\nsalary\n  Field required [type=missing, input_value={'id': 1, 'name': 'bitch'}, input_type=dict]\n    For further information visit https://errors.pydantic.dev/2.5/v/missing\ndepartment\n  Field required [type=missing, input_value={'id': 1, 'name': 'bitch'}, input_type=dict]\n    For further information visit https://errors.pydantic.dev/2.5/v/missing",
     "output_type": "error",
     "traceback": [
      "\u001b[0;31m---------------------------------------------------------------------------\u001b[0m",
      "\u001b[0;31mValidationError\u001b[0m                           Traceback (most recent call last)",
      "\u001b[1;32m/Users/HarrisonHoffman/Desktop/DataScience/materials/python-pydantic/ideation.ipynb Cell 9\u001b[0m line \u001b[0;36m1\n\u001b[0;32m----> <a href='vscode-notebook-cell:/Users/HarrisonHoffman/Desktop/DataScience/materials/python-pydantic/ideation.ipynb#X12sZmlsZQ%3D%3D?line=0'>1</a>\u001b[0m employee\u001b[39m.\u001b[39;49mmodel_validate_json(\u001b[39m'\u001b[39;49m\u001b[39m{\u001b[39;49m\u001b[39m\"\u001b[39;49m\u001b[39mid\u001b[39;49m\u001b[39m\"\u001b[39;49m\u001b[39m:1,\u001b[39;49m\u001b[39m\"\u001b[39;49m\u001b[39mname\u001b[39;49m\u001b[39m\"\u001b[39;49m\u001b[39m:\u001b[39;49m\u001b[39m\"\u001b[39;49m\u001b[39mbitch\u001b[39;49m\u001b[39m\"\u001b[39;49m\u001b[39m}\u001b[39;49m\u001b[39m'\u001b[39;49m)\n",
      "File \u001b[0;32m~/Desktop/DataScience/envs/lc_rp_dev/lib/python3.11/site-packages/pydantic/main.py:532\u001b[0m, in \u001b[0;36mBaseModel.model_validate_json\u001b[0;34m(cls, json_data, strict, context)\u001b[0m\n\u001b[1;32m    530\u001b[0m \u001b[39m# `__tracebackhide__` tells pytest and some other tools to omit this function from tracebacks\u001b[39;00m\n\u001b[1;32m    531\u001b[0m __tracebackhide__ \u001b[39m=\u001b[39m \u001b[39mTrue\u001b[39;00m\n\u001b[0;32m--> 532\u001b[0m \u001b[39mreturn\u001b[39;00m \u001b[39mcls\u001b[39;49m\u001b[39m.\u001b[39;49m__pydantic_validator__\u001b[39m.\u001b[39;49mvalidate_json(json_data, strict\u001b[39m=\u001b[39;49mstrict, context\u001b[39m=\u001b[39;49mcontext)\n",
      "\u001b[0;31mValidationError\u001b[0m: 6 validation errors for Employee\nfirst_name\n  Field required [type=missing, input_value={'id': 1, 'name': 'bitch'}, input_type=dict]\n    For further information visit https://errors.pydantic.dev/2.5/v/missing\nlast_name\n  Field required [type=missing, input_value={'id': 1, 'name': 'bitch'}, input_type=dict]\n    For further information visit https://errors.pydantic.dev/2.5/v/missing\nemail\n  Field required [type=missing, input_value={'id': 1, 'name': 'bitch'}, input_type=dict]\n    For further information visit https://errors.pydantic.dev/2.5/v/missing\ndate_of_birth\n  Field required [type=missing, input_value={'id': 1, 'name': 'bitch'}, input_type=dict]\n    For further information visit https://errors.pydantic.dev/2.5/v/missing\nsalary\n  Field required [type=missing, input_value={'id': 1, 'name': 'bitch'}, input_type=dict]\n    For further information visit https://errors.pydantic.dev/2.5/v/missing\ndepartment\n  Field required [type=missing, input_value={'id': 1, 'name': 'bitch'}, input_type=dict]\n    For further information visit https://errors.pydantic.dev/2.5/v/missing"
     ]
    }
   ],
   "source": [
    "employee.model_validate_json('{\"id\":1,\"name\":\"bitch\"}')"
   ]
  },
  {
   "cell_type": "markdown",
   "metadata": {},
   "source": [
    "The Field function is used to customize and add metadata to fields of models."
   ]
  },
  {
   "cell_type": "code",
   "execution_count": 41,
   "metadata": {},
   "outputs": [],
   "source": [
    "from pydantic import Field\n",
    "\n",
    "class Employee(BaseModel):\n",
    "    employee_id: UUID = Field(default_factory=lambda: uuid4(), frozen=True)\n",
    "    first_name: str = Field(min_length=1, frozen=True)\n",
    "    last_name: str = Field(min_length=1, frozen=True)\n",
    "    email: EmailStr\n",
    "    date_of_birth: date = Field(alias=\"birth_date\", repr=False, frozen=True)\n",
    "    start_date: date\n",
    "    salary: float = Field(gt=0, repr=False)\n",
    "    seniority: str\n",
    "    department: str"
   ]
  },
  {
   "cell_type": "markdown",
   "metadata": {},
   "source": [
    "validators"
   ]
  },
  {
   "cell_type": "code",
   "execution_count": 55,
   "metadata": {},
   "outputs": [],
   "source": [
    "from pydantic import field_validator, model_validator\n",
    "from typing import Any\n",
    "\n",
    "class Employee(BaseModel):\n",
    "    employee_id: UUID = Field(default_factory=lambda: uuid4(), frozen=True)\n",
    "    first_name: str = Field(min_length=1, frozen=True)\n",
    "    last_name: str = Field(min_length=1, frozen=True)\n",
    "    email: EmailStr\n",
    "    date_of_birth: date = Field(alias=\"birth_date\", repr=False, frozen=True)\n",
    "    start_date: date\n",
    "    salary: float = Field(gt=0, repr=False)\n",
    "    seniority: str\n",
    "    department: str\n",
    "    \n",
    "    @model_validator(mode=\"before\")\n",
    "    @classmethod\n",
    "    def check_ssn_omitted(cls, data: Any) -> Any:\n",
    "        if isinstance(data, dict):\n",
    "            assert (\"ssn\" not in data), \"ssn should not be included\"\n",
    "        return data\n",
    "    \n",
    "    @field_validator(\"department\")\n",
    "    @classmethod\n",
    "    def check_valid_department(cls, v: str) -> str:\n",
    "        \n",
    "        if v.lower() not in [\"marketing\", \"hr\", \"engineering\"]:\n",
    "            raise ValueError(\"Invalid department\")\n",
    "    \n",
    "        return v"
   ]
  },
  {
   "cell_type": "code",
   "execution_count": 58,
   "metadata": {},
   "outputs": [
    {
     "data": {
      "text/plain": [
       "Employee(employee_id=UUID('bd51ad4d-5943-46ba-bb31-70bcd71207a4'), first_name='Chris', last_name='Davis', email='cdavis@company.net', start_date=datetime.date(2022, 2, 2), seniority='ic', department='Engineering')"
      ]
     },
     "execution_count": 58,
     "metadata": {},
     "output_type": "execute_result"
    }
   ],
   "source": [
    "employee = Employee(\n",
    "    first_name=\"Chris\",\n",
    "    last_name=\"Davis\",\n",
    "    email=\"cdavis@company.net\",\n",
    "    birth_date=\"1987-09-01\",\n",
    "    start_date=\"2022-02-02\",\n",
    "    salary=250000,\n",
    "    seniority=\"ic\",\n",
    "    department=\"Engineering\"\n",
    ")\n",
    "employee"
   ]
  },
  {
   "cell_type": "code",
   "execution_count": null,
   "metadata": {},
   "outputs": [],
   "source": []
  },
  {
   "cell_type": "code",
   "execution_count": 65,
   "metadata": {},
   "outputs": [],
   "source": [
    "from pydantic import PositiveFloat, validate_call"
   ]
  },
  {
   "cell_type": "code",
   "execution_count": 70,
   "metadata": {},
   "outputs": [],
   "source": [
    "@validate_call\n",
    "def send_billing_email(client_name:str,\n",
    "                       client_email:EmailStr,\n",
    "                       items_purchased:list[str],\n",
    "                       amount_owed:PositiveFloat) -> None:\n",
    "    \n",
    "    email_str = f\"\"\" \n",
    "    Dear {client_name},\n",
    "    \n",
    "    Thank you for choosing xyz inc! You\n",
    "    owe ${amount_owed:,.2f} for the follwoing items:\n",
    "    \n",
    "    {items_purchased}\n",
    "    \"\"\"\n",
    "    \n",
    "    print(f\"Sending to {client_email}...\")\n",
    "    print(email_str)\n",
    "    print(\"Sent!\")\n",
    "    "
   ]
  },
  {
   "cell_type": "code",
   "execution_count": 71,
   "metadata": {},
   "outputs": [
    {
     "name": "stdout",
     "output_type": "stream",
     "text": [
      "Sending to cdavis@company.com...\n",
      " \n",
      "    Dear Chris Davis,\n",
      "    \n",
      "    Thank you for choosing xyz inc! You\n",
      "    owe $50.47 for the follwoing items:\n",
      "    \n",
      "    ['biscuit', 'pie', 'cake']\n",
      "    \n",
      "Sent!\n"
     ]
    }
   ],
   "source": [
    "send_billing_email(\n",
    "    client_name=\"Chris Davis\",\n",
    "    client_email=\"cdavis@company.com\",\n",
    "    items_purchased=[\"biscuit\", \"pie\", \"cake\"],\n",
    "    amount_owed=50.47\n",
    ")"
   ]
  },
  {
   "cell_type": "code",
   "execution_count": 72,
   "metadata": {},
   "outputs": [
    {
     "name": "stdout",
     "output_type": "stream",
     "text": [
      "Collecting pydantic-settings\n",
      "  Obtaining dependency information for pydantic-settings from https://files.pythonhosted.org/packages/5d/c9/8042368e9a1e6e229b5ec5d88449441a3ee8f8afe09988faeb190af30248/pydantic_settings-2.1.0-py3-none-any.whl.metadata\n",
      "  Downloading pydantic_settings-2.1.0-py3-none-any.whl.metadata (2.9 kB)\n",
      "Requirement already satisfied: pydantic>=2.3.0 in /Users/HarrisonHoffman/Desktop/DataScience/envs/lc_rp_dev/lib/python3.11/site-packages (from pydantic-settings) (2.5.1)\n",
      "Requirement already satisfied: python-dotenv>=0.21.0 in /Users/HarrisonHoffman/Desktop/DataScience/envs/lc_rp_dev/lib/python3.11/site-packages (from pydantic-settings) (1.0.0)\n",
      "Requirement already satisfied: annotated-types>=0.4.0 in /Users/HarrisonHoffman/Desktop/DataScience/envs/lc_rp_dev/lib/python3.11/site-packages (from pydantic>=2.3.0->pydantic-settings) (0.6.0)\n",
      "Requirement already satisfied: pydantic-core==2.14.3 in /Users/HarrisonHoffman/Desktop/DataScience/envs/lc_rp_dev/lib/python3.11/site-packages (from pydantic>=2.3.0->pydantic-settings) (2.14.3)\n",
      "Requirement already satisfied: typing-extensions>=4.6.1 in /Users/HarrisonHoffman/Desktop/DataScience/envs/lc_rp_dev/lib/python3.11/site-packages (from pydantic>=2.3.0->pydantic-settings) (4.9.0)\n",
      "Downloading pydantic_settings-2.1.0-py3-none-any.whl (11 kB)\n",
      "Installing collected packages: pydantic-settings\n",
      "Successfully installed pydantic-settings-2.1.0\n",
      "\n",
      "\u001b[1m[\u001b[0m\u001b[34;49mnotice\u001b[0m\u001b[1;39;49m]\u001b[0m\u001b[39;49m A new release of pip is available: \u001b[0m\u001b[31;49m23.2.1\u001b[0m\u001b[39;49m -> \u001b[0m\u001b[32;49m23.3.2\u001b[0m\n",
      "\u001b[1m[\u001b[0m\u001b[34;49mnotice\u001b[0m\u001b[1;39;49m]\u001b[0m\u001b[39;49m To update, run: \u001b[0m\u001b[32;49mpip install --upgrade pip\u001b[0m\n",
      "Note: you may need to restart the kernel to use updated packages.\n"
     ]
    }
   ],
   "source": [
    "pip install pydantic-settings"
   ]
  },
  {
   "cell_type": "code",
   "execution_count": 167,
   "metadata": {},
   "outputs": [],
   "source": [
    "from pydantic_settings import BaseSettings, SettingsConfigDict\n",
    "from pydantic import HttpUrl\n",
    "import os"
   ]
  },
  {
   "cell_type": "code",
   "execution_count": 176,
   "metadata": {},
   "outputs": [],
   "source": [
    "class AppConfig(BaseSettings):\n",
    "    database_user:str\n",
    "    database_password:str\n",
    "    api_key:str\n",
    "    service_host:HttpUrl\n",
    "    "
   ]
  },
  {
   "cell_type": "code",
   "execution_count": 177,
   "metadata": {},
   "outputs": [],
   "source": [
    "config = AppConfig()"
   ]
  },
  {
   "cell_type": "code",
   "execution_count": 178,
   "metadata": {},
   "outputs": [
    {
     "data": {
      "text/plain": [
       "Url('http://localhost:8501/')"
      ]
     },
     "execution_count": 178,
     "metadata": {},
     "output_type": "execute_result"
    }
   ],
   "source": [
    "config.service_host"
   ]
  },
  {
   "cell_type": "code",
   "execution_count": 191,
   "metadata": {},
   "outputs": [],
   "source": [
    "class ReleaseConfig(BaseModel):\n",
    "    release_env:str \n",
    "    regions:list[str]\n",
    "    \n",
    "    @field_validator(\"release_env\")\n",
    "    @classmethod\n",
    "    def check_valid_envs(cls, v: str) -> str:\n",
    "        \n",
    "        if v not in [\"dev\", \"stage\", \"prod\"]:\n",
    "            \n",
    "            raise ValueError(f\"{v} is not valid\")\n",
    "    \n",
    "        return v\n",
    "    \n",
    "    @field_validator(\"regions\")\n",
    "    @classmethod\n",
    "    def check_valid_regions(cls, v: str) -> str:\n",
    "        \n",
    "        for region in v:\n",
    "            \n",
    "            if region not in [\"us-east-1\", \"us-east-2\", \"us-west-1\", \"us-west-2\"]:\n",
    "                \n",
    "                raise ValueError(f\"{region} is not valid\")\n",
    "    \n",
    "        return v"
   ]
  },
  {
   "cell_type": "code",
   "execution_count": 192,
   "metadata": {},
   "outputs": [],
   "source": [
    "class AppConfig(BaseSettings):\n",
    "    database_user: str\n",
    "    database_password: str\n",
    "    api_key: str\n",
    "    service_host: HttpUrl\n",
    "    release_config: ReleaseConfig"
   ]
  },
  {
   "cell_type": "code",
   "execution_count": 197,
   "metadata": {},
   "outputs": [],
   "source": [
    "os.environ[\"DATABASE_USER\"] = \"username\"\n",
    "os.environ[\"DATABASE_PASSWORD\"] = \"fakepassword\"\n",
    "os.environ[\"API_KEY\"] = \"1234jklfgre4\"\n",
    "os.environ[\"SERVICE_HOST\"] = \"http://localhost:8501\"\n",
    "os.environ[\"RELEASE_CONFIG\"] = '{\"release_env\": \"prod\", \"regions\": [\"us-east-1\", \"us-west-2\"]}'"
   ]
  },
  {
   "cell_type": "code",
   "execution_count": 198,
   "metadata": {},
   "outputs": [],
   "source": [
    "config = AppConfig()"
   ]
  },
  {
   "cell_type": "code",
   "execution_count": null,
   "metadata": {},
   "outputs": [],
   "source": []
  },
  {
   "cell_type": "code",
   "execution_count": 132,
   "metadata": {},
   "outputs": [],
   "source": [
    "import numpy as np \n",
    "import matplotlib.pyplot as plt\n",
    "from sklearn.metrics import roc_auc_score, average_precision_score"
   ]
  },
  {
   "cell_type": "code",
   "execution_count": 125,
   "metadata": {},
   "outputs": [],
   "source": [
    "def truncated_normal(mean, std_dev, lower_bound, upper_bound, size=1):\n",
    "    # Generate samples from a normal distribution\n",
    "    samples = np.random.normal(mean, std_dev, size)\n",
    "\n",
    "    # Truncate the values to the specified range\n",
    "    truncated_samples = np.clip(samples, lower_bound, upper_bound)\n",
    "\n",
    "    return truncated_samples"
   ]
  },
  {
   "cell_type": "code",
   "execution_count": 131,
   "metadata": {},
   "outputs": [
    {
     "name": "stdout",
     "output_type": "stream",
     "text": [
      "0.612768896889689\n"
     ]
    },
    {
     "data": {
      "text/plain": [
       "(array([0.17188316, 0.51564948, 1.54694843, 2.06259791, 2.23448107,\n",
       "        2.57824738, 2.40636423, 2.40636423, 1.89071475, 1.37506527]),\n",
       " array([0.22343879, 0.28161784, 0.3397969 , 0.39797596, 0.45615501,\n",
       "        0.51433407, 0.57251313, 0.63069218, 0.68887124, 0.74705029,\n",
       "        0.80522935]),\n",
       " <BarContainer object of 10 artists>)"
      ]
     },
     "execution_count": 131,
     "metadata": {},
     "output_type": "execute_result"
    },
    {
     "data": {
      "image/png": "[encoded data removed]",
      "text/plain": [
       "<Figure size 1000x600 with 1 Axes>"
      ]
     },
     "metadata": {},
     "output_type": "display_data"
    }
   ],
   "source": [
    "n = 1_000_000\n",
    "num_positives = 100\n",
    "num_negatives = n - num_positives\n",
    "\n",
    "preds_0 = truncated_normal(0.50, 0.15, 0, 1, size=num_negatives)\n",
    "preds_1 = truncated_normal(0.55, 0.15, 0, 1, size=num_positives)\n",
    "\n",
    "y_test = np.concatenate((np.ones(num_positives), np.zeros(num_negatives)))\n",
    "preds = np.concatenate((preds_1, preds_0))\n",
    "\n",
    "\n",
    "fig, ax = plt.subplots(figsize=(10, 6))\n",
    "\n",
    "print(roc_auc_score(y_test, preds))\n",
    "ax.hist(preds_0, density=True, alpha=0.5)\n",
    "ax.hist(preds_1, density=True, alpha=0.5)"
   ]
  },
  {
   "cell_type": "code",
   "execution_count": 134,
   "metadata": {},
   "outputs": [],
   "source": [
    "from tqdm import tqdm"
   ]
  },
  {
   "cell_type": "code",
   "execution_count": 147,
   "metadata": {},
   "outputs": [
    {
     "name": "stderr",
     "output_type": "stream",
     "text": [
      "100%|██████████| 249/249 [02:07<00:00,  1.96it/s]\n"
     ]
    },
    {
     "data": {
      "text/plain": [
       "[0.5032207927927929,\n",
       " 0.5097882582582582,\n",
       " 0.5164666746746747,\n",
       " 0.5196503173173173,\n",
       " 0.5142645740740741,\n",
       " 0.5222197867867868,\n",
       " 0.5280984744744746,\n",
       " 0.5220199269269269,\n",
       " 0.5295338778778779,\n",
       " 0.5424813953953953,\n",
       " 0.5539213738738739,\n",
       " 0.5350114324324324,\n",
       " 0.5461897467467468,\n",
       " 0.5460341841841841,\n",
       " 0.5585696351351351,\n",
       " 0.5468557477477477,\n",
       " 0.5653595745745746,\n",
       " 0.5505714389389389,\n",
       " 0.5823374659659659,\n",
       " 0.5865553033033033,\n",
       " 0.584468454954955,\n",
       " 0.5895396306306306,\n",
       " 0.5844123863863864,\n",
       " 0.607969430930931,\n",
       " 0.5919782732732733,\n",
       " 0.5727158928928928,\n",
       " 0.5971778298298298,\n",
       " 0.6140065325325326,\n",
       " 0.6075951456456457,\n",
       " 0.612212993993994,\n",
       " 0.6158526701701701,\n",
       " 0.6099256276276276,\n",
       " 0.6213094734734735,\n",
       " 0.6379862602602602,\n",
       " 0.6417161491491491,\n",
       " 0.6371974434434434,\n",
       " 0.6439415755755756,\n",
       " 0.6372875225225225,\n",
       " 0.632772098098098,\n",
       " 0.6493369514514515,\n",
       " 0.6495667957957958,\n",
       " 0.6685087967967968,\n",
       " 0.6647619164164165,\n",
       " 0.66528,\n",
       " 0.665237492992993,\n",
       " 0.6826481461461462,\n",
       " 0.6701004514514515,\n",
       " 0.6572438588588589,\n",
       " 0.679965101101101,\n",
       " 0.6812483478478479,\n",
       " 0.6876630760760761,\n",
       " 0.6869792872872873,\n",
       " 0.7010425285285286,\n",
       " 0.7072908848848849,\n",
       " 0.7010563163163164,\n",
       " 0.7016769059059058,\n",
       " 0.6912287297297297,\n",
       " 0.6947415495495496,\n",
       " 0.726627008008008,\n",
       " 0.7221944039039039,\n",
       " 0.7165544554554554,\n",
       " 0.723076035035035,\n",
       " 0.7193281211211211,\n",
       " 0.7233105315315317,\n",
       " 0.7217126736736736,\n",
       " 0.7311600845845846,\n",
       " 0.7270726396396396,\n",
       " 0.7277135745745745,\n",
       " 0.7555349904904904,\n",
       " 0.7367441021021021,\n",
       " 0.7501276886886887,\n",
       " 0.7457486811811811,\n",
       " 0.7543884924924926,\n",
       " 0.757392178178178,\n",
       " 0.7674558618618618,\n",
       " 0.7724142392392392,\n",
       " 0.7655746316316315,\n",
       " 0.7693475675675675,\n",
       " 0.7763797797797799,\n",
       " 0.760515091091091,\n",
       " 0.7726095455455455,\n",
       " 0.7780066296296295,\n",
       " 0.7748771891891892,\n",
       " 0.7809190310310311,\n",
       " 0.7847445175175175,\n",
       " 0.7897064374374375,\n",
       " 0.7956241241241241,\n",
       " 0.7926363623623625,\n",
       " 0.8044024994994995,\n",
       " 0.8003939579579578,\n",
       " 0.7933905865865866,\n",
       " 0.8185862767767768,\n",
       " 0.7990576046046045,\n",
       " 0.8012301886886887,\n",
       " 0.8269001826826827,\n",
       " 0.815540516016016,\n",
       " 0.8172619439439439,\n",
       " 0.8246611931931931,\n",
       " 0.8290770995995995,\n",
       " 0.8297413123123123,\n",
       " 0.8255646216216217,\n",
       " 0.8354644329329329,\n",
       " 0.8357370930930931,\n",
       " 0.842436574074074,\n",
       " 0.8452872522522523,\n",
       " 0.8407259394394395,\n",
       " 0.8580334734734734,\n",
       " 0.8440526086086086,\n",
       " 0.8519544234234234,\n",
       " 0.8555552957957958,\n",
       " 0.8538964329329328,\n",
       " 0.8534022752752753,\n",
       " 0.8391114154154155,\n",
       " 0.8581263203203203,\n",
       " 0.8612585905905904,\n",
       " 0.8641986056056056,\n",
       " 0.86374688988989,\n",
       " 0.8649811361361363,\n",
       " 0.8629115625625625,\n",
       " 0.8699065835835836,\n",
       " 0.8778802777777778,\n",
       " 0.8586142872872872,\n",
       " 0.8737414424424425,\n",
       " 0.8778692207207206,\n",
       " 0.878699056056056,\n",
       " 0.8883781561561562,\n",
       " 0.8894210400400401,\n",
       " 0.8896625365365365,\n",
       " 0.8917965385385387,\n",
       " 0.8975742087087086,\n",
       " 0.8945552207207208,\n",
       " 0.894355005005005,\n",
       " 0.8876432337337337,\n",
       " 0.8905779079079079,\n",
       " 0.8984852072072071,\n",
       " 0.9012628428428429,\n",
       " 0.9036051191191192,\n",
       " 0.8975213478478479,\n",
       " 0.9118136276276275,\n",
       " 0.9078632127127128,\n",
       " 0.905022477977978,\n",
       " 0.8993868288288288,\n",
       " 0.9136858113113112,\n",
       " 0.9158724994994996,\n",
       " 0.9118914334334335,\n",
       " 0.916481549049049,\n",
       " 0.920673099099099,\n",
       " 0.9145561021021021,\n",
       " 0.9139908653653653,\n",
       " 0.924993017017017,\n",
       " 0.9273422212212212,\n",
       " 0.9121987592592592,\n",
       " 0.9234827917917918,\n",
       " 0.925457988988989,\n",
       " 0.921608565065065,\n",
       " 0.9327278113113111,\n",
       " 0.9267708858858857,\n",
       " 0.9313320340340339,\n",
       " 0.9390419589589589,\n",
       " 0.9355088693693694,\n",
       " 0.9385055050050051,\n",
       " 0.9385948178178178,\n",
       " 0.9401029074074073,\n",
       " 0.9384825715715716,\n",
       " 0.9418853523523524,\n",
       " 0.9429210650650651,\n",
       " 0.9407853433433434,\n",
       " 0.9446663033033034,\n",
       " 0.9395807527527527,\n",
       " 0.9482287202202202,\n",
       " 0.943190318818819,\n",
       " 0.949248987987988,\n",
       " 0.9416483708708709,\n",
       " 0.9493837707707706,\n",
       " 0.9530546966966967,\n",
       " 0.9563684404404406,\n",
       " 0.9515058148148148,\n",
       " 0.9494546756756758,\n",
       " 0.9531266551551553,\n",
       " 0.952396950950951,\n",
       " 0.9508436616616616,\n",
       " 0.9504357297297298,\n",
       " 0.9544823383383383,\n",
       " 0.9615219559559559,\n",
       " 0.9637589654654654,\n",
       " 0.9590476526526527,\n",
       " 0.9631406756756757,\n",
       " 0.9586432102102103,\n",
       " 0.9607955530530531,\n",
       " 0.9665446676676676,\n",
       " 0.9650430915915917,\n",
       " 0.9675972962962964,\n",
       " 0.9670641086086086,\n",
       " 0.9644872542542542,\n",
       " 0.9708252942942943,\n",
       " 0.9640157032032032,\n",
       " 0.9678990580580581,\n",
       " 0.9659717047047047,\n",
       " 0.9721762042042043,\n",
       " 0.9679812852852853,\n",
       " 0.9709714954954956,\n",
       " 0.9718557507507507,\n",
       " 0.9768181666666667,\n",
       " 0.9742911671671672,\n",
       " 0.9722888208208208,\n",
       " 0.9729619464464465,\n",
       " 0.9745440280280281,\n",
       " 0.9750659089089089,\n",
       " 0.9729479054054053,\n",
       " 0.9718154974974974,\n",
       " 0.9770941081081082,\n",
       " 0.977802837837838,\n",
       " 0.9776175865865866,\n",
       " 0.9766768588588589,\n",
       " 0.9816042412412412,\n",
       " 0.9809206796796798,\n",
       " 0.9776877677677677,\n",
       " 0.9829710990990991,\n",
       " 0.9811560410410411,\n",
       " 0.9812662177177177,\n",
       " 0.979224321821822,\n",
       " 0.9794512732732733,\n",
       " 0.9817937122122122,\n",
       " 0.9802410905905906,\n",
       " 0.9848941701701702,\n",
       " 0.9840577947947947,\n",
       " 0.9820232522522523,\n",
       " 0.9839468208208207,\n",
       " 0.9850455555555556,\n",
       " 0.9856713398398399,\n",
       " 0.9847072882882884,\n",
       " 0.9861017427427429,\n",
       " 0.9835774804804802,\n",
       " 0.9848221631631633,\n",
       " 0.9872955555555556,\n",
       " 0.9822182752752752,\n",
       " 0.9873878628628628,\n",
       " 0.985610036036036,\n",
       " 0.9881223923923923,\n",
       " 0.9906174039039038,\n",
       " 0.9893388038038039,\n",
       " 0.988812095095095,\n",
       " 0.9905481386386386,\n",
       " 0.9893905825825827,\n",
       " 0.9891329544544545,\n",
       " 0.9898038318318317,\n",
       " 0.9898503933933933,\n",
       " 0.990199072072072,\n",
       " 0.9907957787787788]"
      ]
     },
     "execution_count": 147,
     "metadata": {},
     "output_type": "execute_result"
    }
   ],
   "source": [
    "n = 1_000_000\n",
    "num_positives = 1000\n",
    "num_negatives = n - num_positives\n",
    "\n",
    "y_test = np.concatenate((np.ones(num_positives), np.zeros(num_negatives)))\n",
    "\n",
    "mu_deltas = np.arange(0.001, 0.25, 0.001)\n",
    "\n",
    "roc_aucs = []\n",
    "pr_aucs = []\n",
    "\n",
    "\n",
    "for mu_delta in tqdm(mu_deltas):\n",
    "    \n",
    "    preds_0 = truncated_normal(0.50 - mu_delta, 0.15, 0, 1, size=num_negatives)\n",
    "    preds_1 = truncated_normal(0.50 + mu_delta, 0.15, 0, 1, size=num_positives)\n",
    "    preds = np.concatenate((preds_1, preds_0))\n",
    "    \n",
    "    roc_aucs.append(roc_auc_score(y_test, preds))\n",
    "    pr_aucs.append(average_precision_score(y_test, preds))\n",
    "    \n",
    "roc_aucs\n",
    "    "
   ]
  },
  {
   "cell_type": "code",
   "execution_count": 148,
   "metadata": {},
   "outputs": [
    {
     "data": {
      "text/plain": [
       "<matplotlib.collections.PathCollection at 0x112122150>"
      ]
     },
     "execution_count": 148,
     "metadata": {},
     "output_type": "execute_result"
    },
    {
     "data": {
      "image/png": "[encoded data removed]",
      "text/plain": [
       "<Figure size 640x480 with 1 Axes>"
      ]
     },
     "metadata": {},
     "output_type": "display_data"
    }
   ],
   "source": [
    "plt.scatter(mu_deltas , roc_aucs)"
   ]
  },
  {
   "cell_type": "code",
   "execution_count": 149,
   "metadata": {},
   "outputs": [
    {
     "data": {
      "text/plain": [
       "<matplotlib.collections.PathCollection at 0x11222df50>"
      ]
     },
     "execution_count": 149,
     "metadata": {},
     "output_type": "execute_result"
    },
    {
     "data": {
      "image/png": "[encoded data removed]",
      "text/plain": [
       "<Figure size 640x480 with 1 Axes>"
      ]
     },
     "metadata": {},
     "output_type": "display_data"
    }
   ],
   "source": [
    "plt.scatter(mu_deltas , pr_aucs)"
   ]
  },
  {
   "cell_type": "code",
   "execution_count": 150,
   "metadata": {},
   "outputs": [
    {
     "name": "stdout",
     "output_type": "stream",
     "text": [
      "0.6705377337733773\n"
     ]
    },
    {
     "data": {
      "text/plain": [
       "(array([1.34997605, 1.49997339, 1.94996541, 4.04992816, 2.24996009,\n",
       "        1.49997339, 1.34997605, 0.29999468, 0.59998936, 0.14999734]),\n",
       " array([0.29073541, 0.35740326, 0.4240711 , 0.49073895, 0.5574068 ,\n",
       "        0.62407465, 0.6907425 , 0.75741035, 0.8240782 , 0.89074605,\n",
       "        0.9574139 ]),\n",
       " <BarContainer object of 10 artists>)"
      ]
     },
     "execution_count": 150,
     "metadata": {},
     "output_type": "execute_result"
    },
    {
     "data": {
      "image/png": "[encoded data removed]",
      "text/plain": [
       "<Figure size 1000x600 with 1 Axes>"
      ]
     },
     "metadata": {},
     "output_type": "display_data"
    }
   ],
   "source": [
    "n = 1_000_000\n",
    "num_positives = 100\n",
    "num_negatives = n - num_positives\n",
    "\n",
    "preds_0 = truncated_normal(0.45, 0.15, 0, 1, size=num_negatives)\n",
    "preds_1 = truncated_normal(0.55, 0.15, 0, 1, size=num_positives)\n",
    "\n",
    "y_test = np.concatenate((np.ones(num_positives), np.zeros(num_negatives)))\n",
    "preds = np.concatenate((preds_1, preds_0))\n",
    "\n",
    "\n",
    "fig, ax = plt.subplots(figsize=(10, 6))\n",
    "\n",
    "print(roc_auc_score(y_test, preds))\n",
    "ax.hist(preds_0, density=True, alpha=0.5)\n",
    "ax.hist(preds_1, density=True, alpha=0.5)"
   ]
  },
  {
   "cell_type": "code",
   "execution_count": null,
   "metadata": {},
   "outputs": [],
   "source": []
  }
 ],
 "metadata": {
  "kernelspec": {
   "display_name": "lc_rp_dev",
   "language": "python",
   "name": "python3"
  },
  "language_info": {
   "codemirror_mode": {
    "name": "ipython",
    "version": 3
   },
   "file_extension": ".py",
   "mimetype": "text/x-python",
   "name": "python",
   "nbconvert_exporter": "python",
   "pygments_lexer": "ipython3",
   "version": "3.11.6"
  }
 },
 "nbformat": 4,
 "nbformat_minor": 2
}
