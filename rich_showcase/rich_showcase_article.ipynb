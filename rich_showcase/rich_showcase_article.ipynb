{
 "cells": [
  {
   "cell_type": "markdown",
   "id": "5f14c367",
   "metadata": {},
   "source": [
    "Python's Rich package is a toolkit that helps you to readily generate beautiful formatted and highlighted text in the console.\n",
    "More broadly, it allows you to build an attractive Text-based User Interface (TUI)."
   ]
  },
  {
   "cell_type": "markdown",
   "id": "95a745b0",
   "metadata": {},
   "source": [
    "There are several possible reasons for using a TUI rather than the more common Graphical User Interface, or GUI. \n",
    "Sometimes a text display just feels more appropriate. Why use a full-blown GUI for a simple utility program, when a nicely-presented text interface will do? "
   ]
  },
  {
   "cell_type": "markdown",
   "id": "28444698",
   "metadata": {},
   "source": [
    "There can be something refreshing about working with plain text. Text works in any hardware environment with basic text-display capabilities, even on an SSH terminal or a single-board computer display. And some applications just don't need the complexity of a full graphical windowing system.  "
   ]
  },
  {
   "cell_type": "markdown",
   "id": "35eebc1b",
   "metadata": {},
   "source": [
    "In this tutorial, you'll learn how to use Rich:"
   ]
  },
  {
   "cell_type": "markdown",
   "id": "cd85cf09",
   "metadata": {},
   "source": [
    "- To enhance the user interface of command-line tools\n",
    "- To improve the readability of console output\n",
    "- To create attractive dashboard displays for real-time tabular data\n",
    "- To generate well-formatted reports, for instance when presenting unit-test results."
   ]
  },
  {
   "cell_type": "markdown",
   "id": "b2b0bd25",
   "metadata": {},
   "source": [
    "Will McGugan, the author of Rich, has also developed the [Textual](https://textual.textualize.io/) package. Whereas Rich is a rich-text toolkit, Textual is a full application framework built on Rich. It provides application base classes, an event-driven architecture, and more. "
   ]
  },
  {
   "cell_type": "markdown",
   "id": "e287bf0e",
   "metadata": {},
   "source": [
    "There's a lot you can do with Rich on its own, and its support for engaging, dynamic displays may well be sufficient for your app.\n",
    "If you follow this tutorial, you'll be able to experiment with many of the cool features of Rich, and finish up by using your skills to build a dynamically-scrolling tabular display of crypto prices:"
   ]
  },
  {
   "cell_type": "markdown",
   "id": "24b8735b",
   "metadata": {},
   "source": [
    "{% vimeo \"877425433\" gifmode=True border=True %}"
   ]
  },
  {
   "cell_type": "markdown",
   "id": "6f79257c",
   "metadata": {},
   "source": [
    "To get the most out of this tutorial, you should have a good grasp of [context managers](https://realpython.com/python-with-statement/) to understand Rich's syntax for animations. But if you're a bit rusty, don't worry! You'll get a quick refresher in this tutorial."
   ]
  },
  {
   "cell_type": "markdown",
   "id": "c8835ab0",
   "metadata": {},
   "source": [
    "## Installing Rich"
   ]
  },
  {
   "cell_type": "markdown",
   "id": "dbb3c3b7",
   "metadata": {},
   "source": [
    "You can start using Rich very quickly. As always when starting a new project or investigation, it's best to create a [virtual environment](https://realpython.com/python-virtual-environments-a-primer/) first, to avoid polluting your system's Python installation. "
   ]
  },
  {
   "cell_type": "markdown",
   "id": "b09c2413",
   "metadata": {},
   "source": [
    "It's quite possible to install Rich and use it with the built-in Python REPL, but for a better developer experience, you may want to include support for [Jupyter notebooks](https://realpython.com/jupyter-notebook-introduction/). Here's how you can install Rich so that it'll work with either the REPL or Jupyter:"
   ]
  },
  {
   "cell_type": "markdown",
   "id": "8965d334",
   "metadata": {},
   "source": [
    "{% platforms %}"
   ]
  },
  {
   "cell_type": "markdown",
   "id": "c23e4bec",
   "metadata": {},
   "source": [
    "{% windows %}"
   ]
  },
  {
   "cell_type": "markdown",
   "id": "fce5e2f9",
   "metadata": {},
   "source": [
    "```pscon\n",
    "PS> python -m venv venv\n",
    "PS> venv\\Scripts\\activate\n",
    "(venv) PS> python -m pip install rich[jupyter]\n",
    "```"
   ]
  },
  {
   "cell_type": "markdown",
   "id": "99cf21ca",
   "metadata": {},
   "source": [
    "{% linux_and_macos %}"
   ]
  },
  {
   "cell_type": "markdown",
   "id": "31884c07",
   "metadata": {},
   "source": [
    "```console\n",
    "$ python -m venv venv\n",
    "$ source venv/bin/activate\n",
    "(venv) $ python -m pip install \"rich[jupyter]\"\n",
    "```"
   ]
  },
  {
   "cell_type": "markdown",
   "id": "a28ffd9a",
   "metadata": {},
   "source": [
    "{% endplatforms %}"
   ]
  },
  {
   "cell_type": "markdown",
   "id": "74ad0100",
   "metadata": {},
   "source": [
    "Now that you've installed Rich in your new virtual environment, you can test it and also get a nice overview of its capabilities:"
   ]
  },
  {
   "cell_type": "markdown",
   "id": "a7319121",
   "metadata": {},
   "source": [
    "```console\n",
    "(venv) $ python -m rich\n",
    "```"
   ]
  },
  {
   "cell_type": "markdown",
   "id": "2c1b9d9f",
   "metadata": {},
   "source": [
    "Running this command will make lots of magic happen. Your terminal will fill with color, and you'll see several options for customizing your text-based user interface:"
   ]
  },
  {
   "cell_type": "markdown",
   "id": "5bd42741",
   "metadata": {},
   "source": [
    "{% vimeo \"877425502\" gifmode=True border=True %}"
   ]
  },
  {
   "cell_type": "markdown",
   "id": "0484ae45",
   "metadata": {},
   "source": [
    "Apart from displaying colorful text in a variety of styles, this demo also illustrates a few more of Rich's exciting features. "
   ]
  },
  {
   "cell_type": "markdown",
   "id": "5facc262",
   "metadata": {},
   "source": [
    "You can wrap and justify text. You can easily display any Unicode characters, as well as a wide choice of emojis. \n",
    "Markdown syntax is rendered, and there is a syntax for creating elegantly-formatted tables."
   ]
  },
  {
   "cell_type": "markdown",
   "id": "b46641f6",
   "metadata": {},
   "source": [
    "There's much more you can do with Rich, as you'll discover in continuing this tutorial. You can also try some of the command-line demos that Rich has thoughtfully provided for its subpackages, so you can get a flavor of what each one can do without writing any code. "
   ]
  },
  {
   "cell_type": "markdown",
   "id": "5d5d5910",
   "metadata": {},
   "source": [
    "Here are a few you can try from your OS console. Execute them one by one to get a feel for the power of Rich:"
   ]
  },
  {
   "cell_type": "markdown",
   "id": "122e8f79",
   "metadata": {},
   "source": [
    "```console\n",
    "(venv) $ python -m rich.table\n",
    "(venv) $ python -m rich.progress\n",
    "(venv) $ python -m rich.status\n",
    "```"
   ]
  },
  {
   "cell_type": "markdown",
   "id": "050d39ff",
   "metadata": {},
   "source": [
    "Most of these demos are very short, but if need be you can always interrupt them with ++ctrl+c++."
   ]
  },
  {
   "cell_type": "markdown",
   "id": "93c21f68",
   "metadata": {},
   "source": [
    "\n",
    "With the installation done, you're ready to start exploring Rich.\n",
    " "
   ]
  },
  {
   "cell_type": "markdown",
   "id": "a3c83d08",
   "metadata": {},
   "source": [
    "## Using Rich for Development"
   ]
  },
  {
   "cell_type": "markdown",
   "id": "52a3e47d",
   "metadata": {},
   "source": [
    "Rich can help to make your life a little easier as a developer. For instance, it has built-in support for formatting and syntax-highlighting Python code and data structures, and it has a very useful `inspect()` function that lets you examine deeply-nested data."
   ]
  },
  {
   "cell_type": "markdown",
   "id": "4f55f4d8",
   "metadata": {},
   "source": [
    "Some of the best ways to take advantage of Rich's development support include using it with [IPython](https://realpython.com/ipython-interactive-python-shell/) or [Jupyter](https://realpython.com/jupyter-notebook-introduction/). If you don't know these tools, it's well worth giving them a try. Rich provides special support for both of them.\n",
    "Here, though, you'll be exploring Rich with the built-in REPL."
   ]
  },
  {
   "cell_type": "markdown",
   "id": "c8e79fb7",
   "metadata": {},
   "source": [
    "### Syntax Highlighting"
   ]
  },
  {
   "cell_type": "markdown",
   "id": "7009af75",
   "metadata": {},
   "source": [
    "The first Rich feature you'll explore is **syntax highlighting**. This helps to clarify the structure of programming statements and data. Syntax highlighting is built-in to Rich's `print()` function. Open the Python REPL, define a simple data structure, and print it using Python's built-in `print()` function:"
   ]
  },
  {
   "cell_type": "code",
   "execution_count": null,
   "id": "7a589360",
   "metadata": {},
   "outputs": [],
   "source": [
    "# Console\n",
    "student = {\"person\": {\"name\": \"John Jones\", \"age\": 30, \"subscriber\": True}}"
   ]
  },
  {
   "cell_type": "code",
   "execution_count": null,
   "id": "ebd1b4ec",
   "metadata": {},
   "outputs": [],
   "source": [
    "# Console\n",
    "print(student)"
   ]
  },
  {
   "cell_type": "markdown",
   "id": "59f41f07",
   "metadata": {},
   "source": [
    "This does just what you'd expect:"
   ]
  },
  {
   "cell_type": "markdown",
   "id": "e0625f48",
   "metadata": {},
   "source": [
    "{% img \"student-print\" centered=True %}"
   ]
  },
  {
   "cell_type": "markdown",
   "id": "6e205f5b",
   "metadata": {},
   "source": [
    "That output has all the information that you wanted to display, but it doesn't look very exciting. Wouldn't it be nice if the different data types were color-coded to provide some visual variety and help the user keep the information straight? The Rich version does just that:"
   ]
  },
  {
   "cell_type": "code",
   "execution_count": null,
   "id": "fa2de769",
   "metadata": {},
   "outputs": [],
   "source": [
    "# Console\n",
    "from rich import print as rprint"
   ]
  },
  {
   "cell_type": "code",
   "execution_count": null,
   "id": "818e8d4e",
   "metadata": {},
   "outputs": [],
   "source": [
    "# Console\n",
    "rprint(student)"
   ]
  },
  {
   "cell_type": "markdown",
   "id": "004b10a2",
   "metadata": {},
   "source": [
    "Now the different data types are highlighted:"
   ]
  },
  {
   "cell_type": "markdown",
   "id": "93cb6330",
   "metadata": {},
   "source": [
    "{% img \"student-rich-print\" centered=True %}"
   ]
  },
  {
   "cell_type": "markdown",
   "id": "719d5198",
   "metadata": {},
   "source": [
    "The syntax highlighting makes it easy to see what types are being used in the structure."
   ]
  },
  {
   "cell_type": "markdown",
   "id": "f017e3a5",
   "metadata": {},
   "source": [
    "{% alert %}\n",
    "Python's standard library includes a [package named `pprint`](https://realpython.com/python-pretty-print/) that supports pretty-printing. While its formatting of complex data structures is a definite improvement over the built-in `print()`, it doesn't support colored text.\n",
    "{%endalert %}"
   ]
  },
  {
   "cell_type": "markdown",
   "id": "160347f8",
   "metadata": {},
   "source": [
    " Since Rich's `print()` is a drop-in replacement for Python's built-in function, you could safely override the built-in `print()`. Here, though, to make comparisons easier, you've imported it under the alias `rprint()`."
   ]
  },
  {
   "cell_type": "markdown",
   "id": "c9411c0d",
   "metadata": {},
   "source": [
    "\n",
    "The real benefits of pretty-printing code appear when you're dealing with more complex structures.\n",
    "Here's a small example. Suppose you're designing a data structure for your lates app, and you've hand-coded this dictionary:"
   ]
  },
  {
   "cell_type": "code",
   "execution_count": null,
   "id": "e387ebab",
   "metadata": {},
   "outputs": [],
   "source": [
    "# Console\n",
    "superhero = {\n",
    "    \"person\": {\n",
    "        \"name\": \"John Jones\",\n",
    "        \"age\": 30,\n",
    "        \"address\": {\n",
    "            \"street\": \"123 Main St\",\n",
    "            \"city\": \"Gotham\",\n",
    "            \"state\": \"NY\",\n",
    "            \"zip_code\": \"12345\",\n",
    "        },\n",
    "        \"superpowers\": {\n",
    "            \"leaps_buildings\": True,\n",
    "            \"factorizes_trinomials\": False,\n",
    "        },\n",
    "        \"contacts\": [\n",
    "            {\"type\": \"email\", \"value\": \"john.jones@heroes.are.us\"},\n",
    "            {\"type\": \"phone\", \"value\": \"555-123-4567\"},\n",
    "        ],\n",
    "        \"hobbies\": [\"reading\", \"hiking\", \"coding\", \"crimefighting\"],\n",
    "        \"family\": {\n",
    "            \"spouse\": {\"name\": \"Griselda Jones\", \"age\": 28},\n",
    "            \"children\": [\n",
    "                {\"name\": \"Bellatrix\", \"age\": 5, \"name\": \"Draco\", \"age\": 8}\n",
    "            ],\n",
    "        },\n",
    "    }\n",
    "}"
   ]
  },
  {
   "cell_type": "markdown",
   "id": "d9c29b87",
   "metadata": {},
   "source": [
    "The Python REPL is fairly forgiving about input format. So long as your code is valid Python, as here, it's happy to accept it. "
   ]
  },
  {
   "cell_type": "markdown",
   "id": "13500fcd",
   "metadata": {},
   "source": [
    "You carry on coding. A little later, you decide to write the code that parses this data structure. To remind yourself of the details, you `print()` it:"
   ]
  },
  {
   "cell_type": "markdown",
   "id": "ede68879",
   "metadata": {},
   "source": [
    "{%img \"superhero-print\" centered=True %}"
   ]
  },
  {
   "cell_type": "markdown",
   "id": "659c8ccf",
   "metadata": {},
   "source": [
    "The data is all there, but the REPL has its own ideas about formatting.\n",
    "It's certainly possible to trawl through this `print()` output and identify the nested dictionaries and lists. But it's already a bit of a tiresome task, and a much larger structure could be really annoying. Now see what happens when you pretty-print it:"
   ]
  },
  {
   "cell_type": "code",
   "execution_count": null,
   "id": "6aed9df8",
   "metadata": {},
   "outputs": [],
   "source": [
    "# Console\n",
    "rprint(superhero)"
   ]
  },
  {
   "cell_type": "markdown",
   "id": "6f9050f8",
   "metadata": {},
   "source": [
    "The code is neatly formatted and syntax-highlighted:"
   ]
  },
  {
   "cell_type": "markdown",
   "id": "03d437ca",
   "metadata": {},
   "source": [
    "{% img \"superhero-prettyprint\" centered=True %}"
   ]
  },
  {
   "cell_type": "markdown",
   "id": "0fd9af9f",
   "metadata": {},
   "source": [
    "Not only does the layout make more sense, but the various data types are colored differently.\n",
    "You'll probably agree that this makes it much easier to understand the structure."
   ]
  },
  {
   "cell_type": "markdown",
   "id": "d41870e1",
   "metadata": {},
   "source": [
    "Do you always want your data structures presented like this while you're developing?\n",
    "As you probably know, when you simply type a variable name into the REPL and press ++enter++, it echoes that variable's value to the console. By default, the format is the same as for `print()`. But wouldn't it be nice to have that value pretty-printed by default? \n",
    "You can install Rich pretty-printing in the REPL:"
   ]
  },
  {
   "cell_type": "code",
   "execution_count": null,
   "id": "ec81af6b",
   "metadata": {},
   "outputs": [],
   "source": [
    "# Console\n",
    "from rich import pretty"
   ]
  },
  {
   "cell_type": "code",
   "execution_count": null,
   "id": "6c34de0a",
   "metadata": {},
   "outputs": [],
   "source": [
    "# Console\n",
    "pretty.install()"
   ]
  },
  {
   "cell_type": "markdown",
   "id": "92568d2f",
   "metadata": {},
   "source": [
    "Now, simply by typing your variable's name in the REPL, you will automatically get a pretty-printed and highlighted representation, just like the `rprint()` output above.\n",
    "Having your data structures displayed in a pleasing and readable format can really make your coding experience more pleasant and productive!"
   ]
  },
  {
   "cell_type": "markdown",
   "id": "80972c2a",
   "metadata": {},
   "source": [
    "### Code Object Inspection"
   ]
  },
  {
   "cell_type": "markdown",
   "id": "2f6bb408",
   "metadata": {},
   "source": [
    "It's great that your data structures are now prettily color-coded and formatted, but that's not always enough in development. Sometimes you want to peek under the hood of a data structure and really get a snapshot of how it works. For that, you can use Rich's `inspect()` function. See what it can do with your example data structure:"
   ]
  },
  {
   "cell_type": "code",
   "execution_count": null,
   "id": "90808b18",
   "metadata": {},
   "outputs": [],
   "source": [
    "# Console\n",
    "from rich import inspect"
   ]
  },
  {
   "cell_type": "code",
   "execution_count": null,
   "id": "48483c1a",
   "metadata": {},
   "outputs": [],
   "source": [
    "# Console\n",
    "inspect(superhero, methods=True)"
   ]
  },
  {
   "cell_type": "markdown",
   "id": "913c2a54",
   "metadata": {},
   "source": [
    "`inspect()` really lets you examine the inner workings of an object. Since `superhero` is a `dict`, it shows you all the available `dict` constructors before displaying the pretty-printed data as before. Next, courtesy of the optional `methods=True` parameter, you also get a handy summary of the object's methods with their short docstrings and parameter types:"
   ]
  },
  {
   "cell_type": "markdown",
   "id": "ffc14a99",
   "metadata": {},
   "source": [
    "{% img 'rich-superhero-inspect' centered=True %}"
   ]
  },
  {
   "cell_type": "markdown",
   "id": "123bc686",
   "metadata": {},
   "source": [
    "The `inspect()` method is quite powerful. You can get a comprehensive description of its parameters by typing `inspect(inspect)` as suggested in the output above."
   ]
  },
  {
   "cell_type": "markdown",
   "id": "f3cc1ede",
   "metadata": {},
   "source": [
    "{% alert %}\n",
    "The Python standard library has its own [inspect module](https://docs.python.org/3/library/inspect.html#module-inspect) that also allows live inspection of code objects. It is much more powerful, and also much more complex, than the `Rich` function you have been using. You should check it out if you need heavy-duty code introspection. Python's `inspect` module doesn't offer syntax highlighting, however. For on-the-fly investigations, you may find the `Rich` function more convenient. \n",
    "{% endalert %} "
   ]
  },
  {
   "cell_type": "markdown",
   "id": "5f7d9a63",
   "metadata": {},
   "source": [
    "\n",
    "### The `Console` Class"
   ]
  },
  {
   "cell_type": "markdown",
   "id": "8902c8e4",
   "metadata": {},
   "source": [
    "Rich has a `Console` class that encapsulates most of the package's capabilities. A `Console` instance can format text, generate colorized log output, or pretty-print JSON, and it can also handle indenting, horizontal rules, widgets, panels and tables,  as well as interactive prompts and animations. `Console` output can be captured and exported as text, SVG or HTML. "
   ]
  },
  {
   "cell_type": "markdown",
   "id": "57ad86ef",
   "metadata": {},
   "source": [
    "`Console` will interpret **console markup** to apply colors and attributes to text on-the-fly. \n",
    "All these features are available subject to your terminal's capabilities, but most modern terminal emulators will handle everything just fine. Console markup consists of paired tags within square brackets:"
   ]
  },
  {
   "cell_type": "code",
   "execution_count": null,
   "id": "ff33d30c",
   "metadata": {},
   "outputs": [],
   "source": [
    "# Console\n",
    "from rich.console import Console"
   ]
  },
  {
   "cell_type": "code",
   "execution_count": null,
   "id": "b986d101",
   "metadata": {},
   "outputs": [],
   "source": [
    "# Console\n",
    "console = Console()"
   ]
  },
  {
   "cell_type": "code",
   "execution_count": null,
   "id": "7a8190f6",
   "metadata": {},
   "outputs": [],
   "source": [
    "# Console\n",
    "console.print(\n",
    "    \"[green underline]Green underline[/green underline] \"\n",
    "    \"[blue italic]Blue italic[/blue italic]\"\n",
    ")"
   ]
  },
  {
   "cell_type": "markdown",
   "id": "6bf912a5",
   "metadata": {},
   "source": [
    "The specified styles are applied to the text within the tags: "
   ]
  },
  {
   "cell_type": "markdown",
   "id": "02096fab",
   "metadata": {},
   "source": [
    "{% img 'rich-console-markup' centered=True %}"
   ]
  },
  {
   "cell_type": "markdown",
   "id": "75ffbcc0",
   "metadata": {},
   "source": [
    "You can find a complete list of the names, hex codes, and RGB values of the 255 standard text colors in the \n",
    "[Rich appendix](https://rich.readthedocs.io/en/stable/appendix/colors.html). You can also view them from the command-line: "
   ]
  },
  {
   "cell_type": "markdown",
   "id": "e83a9cb5",
   "metadata": {},
   "source": [
    "```console\n",
    "(venv) $ python -m rich.colors\n",
    "```"
   ]
  },
  {
   "cell_type": "markdown",
   "id": "1dbf7ecf",
   "metadata": {},
   "source": [
    "If your terminal supports true colors, then you can specify any of the 16 million colors available by their RGB values.\n",
    "Along with a full range of text colors, console markup supports attributes like 'bold', 'blink', 'reverse', 'underline', and 'italic'. "
   ]
  },
  {
   "cell_type": "markdown",
   "id": "b7804d29",
   "metadata": {},
   "source": [
    "The combination of color and attribute is called a `Style`, and several styles can be combined in a dictionary to create a `Theme`:"
   ]
  },
  {
   "cell_type": "code",
   "execution_count": null,
   "id": "58a5dce1",
   "metadata": {},
   "outputs": [],
   "source": [
    "# Python\n",
    "from rich.console import Console\n",
    "from rich.theme import Theme\n",
    "\n",
    "custom_theme = Theme(\n",
    "    {\"info\": \"bold cyan\", \"warning\": \"magenta\", \"danger\": \"bold red\"}\n",
    ")"
   ]
  },
  {
   "cell_type": "markdown",
   "id": "2f5f339f",
   "metadata": {},
   "source": [
    "The `custom_theme` you've created provides you with a set of style definitions that you can apply to any `Console` instance:"
   ]
  },
  {
   "cell_type": "markdown",
   "id": "9e337011",
   "metadata": {},
   "source": [
    "{% img 'rich-console-styles-themes' centered=True %}"
   ]
  },
  {
   "cell_type": "markdown",
   "id": "fd0869f4",
   "metadata": {},
   "source": [
    "Using a `Console` object with a `Theme` helps to keep your formatting consistent across the application."
   ]
  },
  {
   "cell_type": "markdown",
   "id": "17ea09cd",
   "metadata": {},
   "source": [
    "### Logging and Tracebacks"
   ]
  },
  {
   "cell_type": "markdown",
   "id": "1f1b76ad",
   "metadata": {},
   "source": [
    "Creating good log statements is an important part of writing maintainable code. Logging helps you during development and testing, by confirming that your code is following the expected paths. It is invaluable when things go wrong in production code, as well-placed log statements can provide insight into obscure code misbehavior."
   ]
  },
  {
   "cell_type": "markdown",
   "id": "3fc00cf3",
   "metadata": {},
   "source": [
    "The `Console` class supports formatted [logging](https://realpython.com/python-logging/), using a syntax very close to that of [Python's standard `logging` package](https://realpython.com/python-logging-source-code/). It can generate nicely-formatted [tracebacks](https://realpython.com/python-traceback/) of any uncaught exceptions in your code, while using styles from a defined `Theme`."
   ]
  },
  {
   "cell_type": "markdown",
   "id": "7b6fbfe5",
   "metadata": {},
   "source": [
    "Python's built-in tracebacks and [error messages](https://realpython.com/python312-error-messages/) get more informative and useful with each new release, but some extra eye-appeal doesn't hurt, and there's no substitute for good log messages to give context for a crash.  Continuing the previous example, you can produce some samples of logging output:"
   ]
  },
  {
   "cell_type": "code",
   "execution_count": null,
   "id": "fd721dfa",
   "metadata": {},
   "outputs": [],
   "source": [
    "# Python\n",
    "import time\n",
    "from rich.traceback import install\n",
    "\n",
    "install(show_locals=True)"
   ]
  },
  {
   "cell_type": "markdown",
   "id": "74be12ea",
   "metadata": {},
   "source": [
    "Log messages will now use the `Theme` you defined in the previous code snippet:"
   ]
  },
  {
   "cell_type": "markdown",
   "id": "ce870e5d",
   "metadata": {},
   "source": [
    "{% img 'rich-console-logging-styles' centered=True %}"
   ]
  },
  {
   "cell_type": "markdown",
   "id": "bb4f46ee",
   "metadata": {},
   "source": [
    "`console.log()` automatically adds timestamps, source file name, and source line number to your logging statements. "
   ]
  },
  {
   "cell_type": "markdown",
   "id": "04d12881",
   "metadata": {},
   "source": [
    "While things are running normally, you'll just get the clean log output, as above. But if there's a crash during development, you'll want to log as much information as possible about the cause. Try manually throwing a `RuntimeError`, and see the difference:"
   ]
  },
  {
   "cell_type": "markdown",
   "id": "db6a17d8",
   "metadata": {},
   "source": [
    "{% img 'rich-console-log-locals' centered=True %}"
   ]
  },
  {
   "cell_type": "markdown",
   "id": "c7fec9c8",
   "metadata": {},
   "source": [
    "When an exception happens, the traceback can optionally display all your local variables as well as the stack trace of the error. Your session may contain more local variables than this, so the output may look different."
   ]
  },
  {
   "cell_type": "markdown",
   "id": "c56da687",
   "metadata": {},
   "source": [
    "Tools like these can really help make your development experience more pleasant and productive. Rich's colorful and nicely-presented error messages are much easier to read than Python's default tracebacks. You may actually look forward to getting an exception! "
   ]
  },
  {
   "cell_type": "markdown",
   "id": "a400148e",
   "metadata": {},
   "source": [
    "## Keeping Your User Engaged Through Animation"
   ]
  },
  {
   "cell_type": "markdown",
   "id": "1d86e9a6",
   "metadata": {},
   "source": [
    "There's much more to Rich than just developer tools. Its prime purpose is to help you create an interesting and attractive interface for the user. Animations can be a powerful asset in this aim. Rich's animation tools are designed to make use of **context managers**. Here, you'll do a quick review of what context managers are and how they work. If you'd like a more in-depth discussion, you can go to this [Real Python tutorial](https://realpython.com/python-with-statement/)."
   ]
  },
  {
   "cell_type": "markdown",
   "id": "0126e8d0",
   "metadata": {},
   "source": [
    "### Understanding Context Managers"
   ]
  },
  {
   "cell_type": "markdown",
   "id": "353d7b9f",
   "metadata": {},
   "source": [
    "A context manager is a mechanism for keeping track of resources. It can be used in any situation where a resource such as a [file](https://realpython.com/why-close-file-python/), a socket, or a thread must be allocated to a task and then later returned to the system. A context manager in Python is invoked with the `with` keyword, and it is active within the subsequent indented block. When the code execution leaves the block, the teardown actions are invoked automatically."
   ]
  },
  {
   "cell_type": "markdown",
   "id": "d82000bb",
   "metadata": {},
   "source": [
    "In the case of Rich animations, the resources are the timers and variables used to keep track of the changes in the display. The Rich library provides context managers to handle these resources. You, the programmer, can largely ignore the complexities, and trust the context manager to do the right thing."
   ]
  },
  {
   "cell_type": "markdown",
   "id": "c0a4cb9e",
   "metadata": {},
   "source": [
    "### Displaying Dynamic Status With Animations"
   ]
  },
  {
   "cell_type": "markdown",
   "id": "c69450d2",
   "metadata": {},
   "source": [
    "Rich has a `Status` class that you can use to display the status of your program. The recommended way to use it is as a context manager. Create a file named `rich_status.py` to investigate how this works:"
   ]
  },
  {
   "cell_type": "code",
   "execution_count": null,
   "id": "98fccc57",
   "metadata": {},
   "outputs": [],
   "source": [
    "# Python\n",
    "import time\n",
    "from rich.console import Console\n",
    "\n",
    "\n",
    "def do_something_important():\n",
    "    time.sleep(5.0)  # Simulates a long process\n",
    "\n",
    "\n",
    "console = Console()\n",
    "with console.status(\n",
    "    \"Please wait - solving global problems...\", spinner=\"earth\"\n",
    "):\n",
    "    do_something_important()\n",
    "console.print(\"All fixed! :sunglasses:\")"
   ]
  },
  {
   "cell_type": "markdown",
   "id": "55752494",
   "metadata": {},
   "source": [
    "The context manager scope starts at **line 10**. You call `console.status()` with two parameters: the message to display, and the animated \"spinner\" that appears along with the message while the context block is active. "
   ]
  },
  {
   "cell_type": "markdown",
   "id": "a499e3fd",
   "metadata": {},
   "source": [
    "Your call to `do_something_important()` (**line 12**) happens within the context manager's scope, so the message and the spinner remain visible until that function returns five seconds later. Finally (in **line 13**), you announce success: the `status()` animation disappears, and is replaced by a cheery announcement together with an emoji:"
   ]
  },
  {
   "cell_type": "markdown",
   "id": "feb7a7cd",
   "metadata": {},
   "source": [
    "{% vimeo \"877425540\" gifmode=True border=True %}"
   ]
  },
  {
   "cell_type": "markdown",
   "id": "d16e14b8",
   "metadata": {},
   "source": [
    "\n",
    "So the particular `spinner=` parameter in this example rendered an image of the rotating earth. But how can you find out what other spinners you can use?\n",
    "You can see all the numerous `spinner` animations available using another handy module-level demo:"
   ]
  },
  {
   "cell_type": "markdown",
   "id": "cc8c3d56",
   "metadata": {},
   "source": [
    "```console\n",
    "(venv) $ python -m rich.spinner\n",
    "```"
   ]
  },
  {
   "cell_type": "markdown",
   "id": "719eaf6e",
   "metadata": {},
   "source": [
    "You'll see you have a wide choice of \"geometric\" animations, plus some more pictorial ones like \"clock\", \"smiley\", and \"weather\"."
   ]
  },
  {
   "cell_type": "markdown",
   "id": "4050aabd",
   "metadata": {},
   "source": [
    "Similarly, the `:sunglasses:` syntax in **line 13** shows how you can incorporate static emoji into inline text using colon-delimited names. Emoji can be inserted wherever Rich renders text, such as in a `log()` statement, a prompt, or a table. And of course, Rich has thousands more emoji that you can use in this way. As with the `spinner` images, you can display the full catalog of emoji names and images using yet another command-line demo:"
   ]
  },
  {
   "cell_type": "markdown",
   "id": "e5007daa",
   "metadata": {},
   "source": [
    "```console\n",
    "(venv) $ python -m rich.emoji\n",
    "```"
   ]
  },
  {
   "cell_type": "markdown",
   "id": "56f8a8d6",
   "metadata": {},
   "source": [
    "There are far too many emoji available to fit on a single screen."
   ]
  },
  {
   "cell_type": "markdown",
   "id": "1721cd56",
   "metadata": {},
   "source": [
    "If you prefer an online reference, spinners and emoji are also cataloged in the [`Rich` documentation](https://rich.readthedocs.io/en/stable/reference.html)."
   ]
  },
  {
   "cell_type": "markdown",
   "id": "bf663079",
   "metadata": {},
   "source": [
    "### Animating Activities With Progress Bars"
   ]
  },
  {
   "cell_type": "markdown",
   "id": "1bf130e6",
   "metadata": {},
   "source": [
    "Animated spinners are well and good if the wait is short - but for a lengthier process, you'll want to give the user some indication of how long they can expect to wait.  \n",
    "Rich has you covered for this case too. with the `Progress` class. Instances of this class keep track of one or more asynchronous tasks while displaying their progress via an animated bar, a percent-completed display, and an estimated time to completion. Here's an example of that:"
   ]
  },
  {
   "cell_type": "code",
   "execution_count": null,
   "id": "eb61fb1e",
   "metadata": {},
   "outputs": [],
   "source": [
    "# Python\n",
    "import time\n",
    "from rich.progress import Progress\n",
    "\n",
    "with Progress() as progress:\n",
    "    task1 = progress.add_task(\"[red]Fribbulating...\", total=1000)\n",
    "    task2 = progress.add_task(\"[green]Wobbulizing...\", total=1000)\n",
    "    task3 = progress.add_task(\"[cyan]Fandangling...\", total=1000)\n",
    "    while not progress.finished:\n",
    "        progress.update(task1, advance=0.5)\n",
    "        progress.update(task2, advance=0.3)\n",
    "        progress.update(task3, advance=0.9)\n",
    "        time.sleep(0.01)"
   ]
  },
  {
   "cell_type": "markdown",
   "id": "f1d7e3e0",
   "metadata": {},
   "source": [
    "The `Progress` class animates and highlights the display as your tasks progress. Just for illustrative purposes, your tasks all advance at different speeds: "
   ]
  },
  {
   "cell_type": "markdown",
   "id": "33f10cd3",
   "metadata": {},
   "source": [
    "{% vimeo \"877425475\" gifmode=True border=True %}"
   ]
  },
  {
   "cell_type": "markdown",
   "id": "5ecedd2c",
   "metadata": {},
   "source": [
    "In a real application, the `.update()` method could be called by a task such as a file download, with the `advance` parameter calculated from the number of bytes downloaded."
   ]
  },
  {
   "cell_type": "markdown",
   "id": "119fa622",
   "metadata": {},
   "source": [
    "As with most Rich classes, there are plenty of ways to customize the details of what is displayed by `Progress`. You can check out the [details in the Rich documentation](https://rich.readthedocs.io/en/stable/reference/progress.html#)"
   ]
  },
  {
   "cell_type": "markdown",
   "id": "2f269d07",
   "metadata": {},
   "source": [
    "## Bringing Tables to Life"
   ]
  },
  {
   "cell_type": "markdown",
   "id": "5be5c092",
   "metadata": {},
   "source": [
    "If you're working with a lot of data, then often a table is the most compact way to present it. But plain data tables can be a little dry. In this section, you'll see how you can use the table-building tools provided by `Rich` along with formatting and colorization to build a table that really grabs the user's attention. "
   ]
  },
  {
   "cell_type": "markdown",
   "id": "6362a136",
   "metadata": {},
   "source": [
    "Static tables have their uses, but now you'll add some real pizzazz. You'll use `Rich` animation to convert your table into a simulated real-time display. A scrolling, updating table like this could be the main feature of your app, or it could be just a part of a whole data dashboard."
   ]
  },
  {
   "cell_type": "markdown",
   "id": "6a4b8451",
   "metadata": {},
   "source": [
    "### Building a Static Table"
   ]
  },
  {
   "cell_type": "markdown",
   "id": "7747c770",
   "metadata": {},
   "source": [
    "Rich has a `Table` class that lets you build nice tabular data displays. Here's an example that shows how you can set formats and colors on a per-column basis:"
   ]
  },
  {
   "cell_type": "code",
   "execution_count": null,
   "id": "3b4cb98d",
   "metadata": {},
   "outputs": [],
   "source": [
    "# Python\n",
    "from rich.console import Console\n",
    "from rich.table import Table\n",
    "\n",
    "console = Console()\n",
    "\n",
    "table = Table(title=\"Noble Gases\")\n",
    "\n",
    "columns = [\n",
    "    {\"heading\": \"Name\", \"style\": \"cyan\", \"justify\": \"center\"},\n",
    "    {\"heading\": \"Symbol\", \"style\": \"magenta\", \"justify\": \"center\"},\n",
    "    {\"heading\": \"Atomic Number\", \"style\": \"yellow\", \"justify\": \"right\"},\n",
    "    {\"heading\": \"Atomic Mass\", \"style\": \"green\", \"justify\": \"right\"},\n",
    "    {\"heading\": \"Main Properties\", \"style\": \"blue\", \"justify\": \"center\"},\n",
    "]\n",
    "for column in columns:\n",
    "    table.add_column(\n",
    "        column[\"heading\"], style=column[\"style\"], justify=column[\"justify\"]\n",
    "    )\n",
    "\n",
    "noble_gases = [\n",
    "    {\n",
    "        \"name\": \"Helium\",\n",
    "        \"symbol\": \"He\",\n",
    "        \"atomic_number\": 2,\n",
    "        \"atomic_mass\": 4.0026,\n",
    "        \"properties\": \"Inert gas\",\n",
    "    },\n",
    "    {\n",
    "        \"name\": \"Neon\",\n",
    "        \"symbol\": \"Ne\",\n",
    "        \"atomic_number\": 10,\n",
    "        \"atomic_mass\": 20.1797,\n",
    "        \"properties\": \"Inert gas\",\n",
    "    },\n",
    "    {\n",
    "        \"name\": \"Argon\",\n",
    "        \"symbol\": \"Ar\",\n",
    "        \"atomic_number\": 18,\n",
    "        \"atomic_mass\": 39.948,\n",
    "        \"properties\": \"Inert gas\",\n",
    "    },\n",
    "    {\n",
    "        \"name\": \"Krypton\",\n",
    "        \"symbol\": \"Kr\",\n",
    "        \"atomic_number\": 36,\n",
    "        \"atomic_mass\": 83.798,\n",
    "        \"properties\": \"Inert gas\",\n",
    "    },\n",
    "    {\n",
    "        \"name\": \"Xenon\",\n",
    "        \"symbol\": \"Xe\",\n",
    "        \"atomic_number\": 54,\n",
    "        \"atomic_mass\": 131.293,\n",
    "        \"properties\": \"Inert gas\",\n",
    "    },\n",
    "    {\n",
    "        \"name\": \"Radon\",\n",
    "        \"symbol\": \"Rn\",\n",
    "        \"atomic_number\": 86,\n",
    "        \"atomic_mass\": 222.0,\n",
    "        \"properties\": \"Radioactive gas\",\n",
    "    },\n",
    "    {\n",
    "        \"name\": \"Oganesson\",\n",
    "        \"symbol\": \"Og\",\n",
    "        \"atomic_number\": 118,\n",
    "        \"atomic_mass\": \"(294)\",\n",
    "        \"properties\": \"Synthetic radioactive gas\",\n",
    "    },\n",
    "]\n",
    "\n",
    "for noble_gas in noble_gases:\n",
    "    table.add_row(\n",
    "        noble_gas[\"name\"],\n",
    "        noble_gas[\"symbol\"],\n",
    "        str(noble_gas[\"atomic_number\"]),\n",
    "        str(noble_gas[\"atomic_mass\"]),\n",
    "        noble_gas[\"properties\"],\n",
    "    )\n",
    "\n",
    "console.print(table)"
   ]
  },
  {
   "cell_type": "markdown",
   "id": "8547163d",
   "metadata": {},
   "source": [
    "A table can be a very convenient way of presenting this sort of data:  "
   ]
  },
  {
   "cell_type": "markdown",
   "id": "5b2e955d",
   "metadata": {},
   "source": [
    "{% img 'rich-static-table' centered=True %}"
   ]
  },
  {
   "cell_type": "markdown",
   "id": "dde94fe2",
   "metadata": {},
   "source": [
    "The `Table` API gives you an intuitive way of building a nice-looking tabular display."
   ]
  },
  {
   "cell_type": "markdown",
   "id": "d1aba30b",
   "metadata": {},
   "source": [
    "### Animating a Scrolling Display"
   ]
  },
  {
   "cell_type": "markdown",
   "id": "df330ea8",
   "metadata": {},
   "source": [
    "A static table is fine for displaying static data, but what if you want to display _dynamic_ data in real time? Rich has a class named `Live` that helps you do this. `Live` is a context manager that takes control of the console formatting, allowing you to update whatever fields you like without disturbing the rest of the layout. For your `Live` demo, you'll make use of some real cryptocurrency data, captured from a [free crypto API](https://api.coinlore.net/api/tickers/)."
   ]
  },
  {
   "cell_type": "markdown",
   "id": "f9f7f022",
   "metadata": {},
   "source": [
    "To keep the demo focused on the display aspects, you'll use canned data to simulate real-time updates. There are 100 entries that you'll present in a table only 20 rows deep. To do this, you'll scroll the data through the table in an endless loop, simulating the continuous arrival of new data."
   ]
  },
  {
   "cell_type": "markdown",
   "id": "4888478e",
   "metadata": {},
   "source": [
    "In a real application, you might be getting real-time updates from a crypto API, which you would then add to the bottom of your table while allowing the older data to scroll off the top. The overall visual effect would be very similar to your demo."
   ]
  },
  {
   "cell_type": "markdown",
   "id": "9674ecde",
   "metadata": {},
   "source": [
    "### Accessing the Crypto Data"
   ]
  },
  {
   "cell_type": "markdown",
   "id": "8263513f",
   "metadata": {},
   "source": [
    "Since the crypto data is a little bulky, you'll put it in its own module:"
   ]
  },
  {
   "cell_type": "markdown",
   "id": "70cb24d4",
   "metadata": {},
   "source": [
    "{% collapse rich_showcase_data.py %}"
   ]
  },
  {
   "cell_type": "code",
   "execution_count": null,
   "id": "5932ba18",
   "metadata": {},
   "outputs": [],
   "source": [
    "# Python\n",
    "# Data for the Rich showcase table demo\n",
    "\n",
    "DEMO_DATA = [\n",
    "    {\n",
    "        \"symbol\": \"BTC\",\n",
    "        \"name\": \"Bitcoin\",\n",
    "        \"price_usd\": \"31252.03\",\n",
    "        \"percent_change_7d\": \"3.79\",\n",
    "        \"volume24\": 20953193815.93972,\n",
    "    },\n",
    "    {\n",
    "        \"symbol\": \"ETH\",\n",
    "        \"name\": \"Ethereum\",\n",
    "        \"price_usd\": \"1996.94\",\n",
    "        \"percent_change_7d\": \"7.72\",\n",
    "        \"volume24\": 43776094155.557755,\n",
    "    },\n",
    "    {\n",
    "        \"symbol\": \"USDT\",\n",
    "        \"name\": \"Tether\",\n",
    "        \"price_usd\": \"1.00\",\n",
    "        \"percent_change_7d\": \"0.07\",\n",
    "        \"volume24\": 55137371360.06878,\n",
    "    },\n",
    "    {\n",
    "        \"symbol\": \"BNB\",\n",
    "        \"name\": \"Binance Coin\",\n",
    "        \"price_usd\": \"254.17\",\n",
    "        \"percent_change_7d\": \"8.54\",\n",
    "        \"volume24\": 788139087.131846,\n",
    "    },\n",
    "    {\n",
    "        \"symbol\": \"USDC\",\n",
    "        \"name\": \"USD Coin\",\n",
    "        \"price_usd\": \"0.999758\",\n",
    "        \"percent_change_7d\": \"-0.03\",\n",
    "        \"volume24\": 34890207329.59203,\n",
    "    },\n",
    "    {\n",
    "        \"symbol\": \"XRP\",\n",
    "        \"name\": \"XRP\",\n",
    "        \"price_usd\": \"0.776092\",\n",
    "        \"percent_change_7d\": \"65.51\",\n",
    "        \"volume24\": 13289725792.18076,\n",
    "    },\n",
    "    {\n",
    "        \"symbol\": \"BUSD\",\n",
    "        \"name\": \"Binance USD\",\n",
    "        \"price_usd\": \"1.00\",\n",
    "        \"percent_change_7d\": \"-0.01\",\n",
    "        \"volume24\": 2982268496.878559,\n",
    "    },\n",
    "    {\n",
    "        \"symbol\": \"ADA\",\n",
    "        \"name\": \"Cardano\",\n",
    "        \"price_usd\": \"0.348179\",\n",
    "        \"percent_change_7d\": \"23.40\",\n",
    "        \"volume24\": 1317758234.4725194,\n",
    "    },\n",
    "    {\n",
    "        \"symbol\": \"SOL\",\n",
    "        \"name\": \"Solana\",\n",
    "        \"price_usd\": \"27.96\",\n",
    "        \"percent_change_7d\": \"37.47\",\n",
    "        \"volume24\": 2608578104.9363656,\n",
    "    },\n",
    "    {\n",
    "        \"symbol\": \"DOGE\",\n",
    "        \"name\": \"Dogecoin\",\n",
    "        \"price_usd\": \"0.070784\",\n",
    "        \"percent_change_7d\": \"7.82\",\n",
    "        \"volume24\": 776208544.8693453,\n",
    "    },\n",
    "    {\n",
    "        \"symbol\": \"STETH\",\n",
    "        \"name\": \"Staked Ether\",\n",
    "        \"price_usd\": \"1984.92\",\n",
    "        \"percent_change_7d\": \"8.38\",\n",
    "        \"volume24\": 970870.4192054314,\n",
    "    },\n",
    "    {\n",
    "        \"symbol\": \"TRX\",\n",
    "        \"name\": \"TRON\",\n",
    "        \"price_usd\": \"0.082126\",\n",
    "        \"percent_change_7d\": \"5.43\",\n",
    "        \"volume24\": 294442942.6567772,\n",
    "    },\n",
    "    {\n",
    "        \"symbol\": \"LTC\",\n",
    "        \"name\": \"Litecoin\",\n",
    "        \"price_usd\": \"100.92\",\n",
    "        \"percent_change_7d\": \"3.73\",\n",
    "        \"volume24\": 2010476368.057925,\n",
    "    },\n",
    "    {\n",
    "        \"symbol\": \"DOT\",\n",
    "        \"name\": \"Polkadot\",\n",
    "        \"price_usd\": \"5.63\",\n",
    "        \"percent_change_7d\": \"10.75\",\n",
    "        \"volume24\": 282938041.0123782,\n",
    "    },\n",
    "    {\n",
    "        \"symbol\": \"WBTC\",\n",
    "        \"name\": \"Wrapped Bitcoin\",\n",
    "        \"price_usd\": \"31201.84\",\n",
    "        \"percent_change_7d\": \"3.62\",\n",
    "        \"volume24\": 36161715.175137974,\n",
    "    },\n",
    "    {\n",
    "        \"symbol\": \"BCH\",\n",
    "        \"name\": \"Bitcoin Cash\",\n",
    "        \"price_usd\": \"272.20\",\n",
    "        \"percent_change_7d\": \"-4.50\",\n",
    "        \"volume24\": 2129638945.9266052,\n",
    "    },\n",
    "    {\n",
    "        \"symbol\": \"AVAX\",\n",
    "        \"name\": \"Avalanche\",\n",
    "        \"price_usd\": \"15.24\",\n",
    "        \"percent_change_7d\": \"20.96\",\n",
    "        \"volume24\": 500476432.5450047,\n",
    "    },\n",
    "    {\n",
    "        \"symbol\": \"UNI\",\n",
    "        \"name\": \"Uniswap\",\n",
    "        \"price_usd\": \"5.96\",\n",
    "        \"percent_change_7d\": \"10.67\",\n",
    "        \"volume24\": 122940409.6610347,\n",
    "    },\n",
    "    {\n",
    "        \"symbol\": \"SHIB\",\n",
    "        \"name\": \"Shiba Inu\",\n",
    "        \"price_usd\": \"0.000008\",\n",
    "        \"percent_change_7d\": \"10.67\",\n",
    "        \"volume24\": 204280913.4426844,\n",
    "    },\n",
    "    {\n",
    "        \"symbol\": \"XLM\",\n",
    "        \"name\": \"Stellar\",\n",
    "        \"price_usd\": \"0.142132\",\n",
    "        \"percent_change_7d\": \"46.19\",\n",
    "        \"volume24\": 1263932212.2337687,\n",
    "    },\n",
    "    {\n",
    "        \"symbol\": \"LEO\",\n",
    "        \"name\": \"UNUS SED LEO\",\n",
    "        \"price_usd\": \"3.97\",\n",
    "        \"percent_change_7d\": \"8.41\",\n",
    "        \"volume24\": 2339911.236200216,\n",
    "    },\n",
    "    {\n",
    "        \"symbol\": \"LINK\",\n",
    "        \"name\": \"ChainLink\",\n",
    "        \"price_usd\": \"7.10\",\n",
    "        \"percent_change_7d\": \"15.50\",\n",
    "        \"volume24\": 484358760.1126672,\n",
    "    },\n",
    "    {\n",
    "        \"symbol\": \"XMR\",\n",
    "        \"name\": \"Monero\",\n",
    "        \"price_usd\": \"164.65\",\n",
    "        \"percent_change_7d\": \"-1.88\",\n",
    "        \"volume24\": 2038036008.0313425,\n",
    "    },\n",
    "    {\n",
    "        \"symbol\": \"ATOM\",\n",
    "        \"name\": \"Cosmos\",\n",
    "        \"price_usd\": \"10.01\",\n",
    "        \"percent_change_7d\": \"7.68\",\n",
    "        \"volume24\": 222431999.6788462,\n",
    "    },\n",
    "    {\n",
    "        \"symbol\": \"ETC\",\n",
    "        \"name\": \"Ethereum Classic\",\n",
    "        \"price_usd\": \"19.89\",\n",
    "        \"percent_change_7d\": \"4.32\",\n",
    "        \"volume24\": 382469987.24052006,\n",
    "    },\n",
    "    {\n",
    "        \"symbol\": \"OKB\",\n",
    "        \"name\": \"OKB\",\n",
    "        \"price_usd\": \"44.00\",\n",
    "        \"percent_change_7d\": \"3.71\",\n",
    "        \"volume24\": 5182537.475964661,\n",
    "    },\n",
    "    {\n",
    "        \"symbol\": \"LDO\",\n",
    "        \"name\": \"Lido DAO\",\n",
    "        \"price_usd\": \"2.43\",\n",
    "        \"percent_change_7d\": \"25.87\",\n",
    "        \"volume24\": 200042470.0922766,\n",
    "    },\n",
    "    {\n",
    "        \"symbol\": \"TON\",\n",
    "        \"name\": \"The Open Network\",\n",
    "        \"price_usd\": \"1.36\",\n",
    "        \"percent_change_7d\": \"1.87\",\n",
    "        \"volume24\": 4290911.169640025,\n",
    "    },\n",
    "    {\n",
    "        \"symbol\": \"MATIC\",\n",
    "        \"name\": \"Matic Network\",\n",
    "        \"price_usd\": \"0.841325\",\n",
    "        \"percent_change_7d\": \"25.56\",\n",
    "        \"volume24\": 715840267.2564398,\n",
    "    },\n",
    "    {\n",
    "        \"symbol\": \"FIL\",\n",
    "        \"name\": \"Filecoin\",\n",
    "        \"price_usd\": \"4.61\",\n",
    "        \"percent_change_7d\": \"5.08\",\n",
    "        \"volume24\": 276195488.1582698,\n",
    "    },\n",
    "    {\n",
    "        \"symbol\": \"ARB\",\n",
    "        \"name\": \"Arbitrum\",\n",
    "        \"price_usd\": \"1.25\",\n",
    "        \"percent_change_7d\": \"14.98\",\n",
    "        \"volume24\": 207234601.30264035,\n",
    "    },\n",
    "    {\n",
    "        \"symbol\": \"VET\",\n",
    "        \"name\": \"VeChain\",\n",
    "        \"price_usd\": \"0.020024\",\n",
    "        \"percent_change_7d\": \"7.60\",\n",
    "        \"volume24\": 70424000.50503708,\n",
    "    },\n",
    "    {\n",
    "        \"symbol\": \"NEAR\",\n",
    "        \"name\": \"NEAR Protocol\",\n",
    "        \"price_usd\": \"1.55\",\n",
    "        \"percent_change_7d\": \"16.68\",\n",
    "        \"volume24\": 186510632.14473444,\n",
    "    },\n",
    "    {\n",
    "        \"symbol\": \"QNT\",\n",
    "        \"name\": \"Quant\",\n",
    "        \"price_usd\": \"105.03\",\n",
    "        \"percent_change_7d\": \"0.81\",\n",
    "        \"volume24\": 32760026.63178301,\n",
    "    },\n",
    "    {\n",
    "        \"symbol\": \"AAVE\",\n",
    "        \"name\": \"Aave\",\n",
    "        \"price_usd\": \"83.40\",\n",
    "        \"percent_change_7d\": \"16.36\",\n",
    "        \"volume24\": 435033534.55578315,\n",
    "    },\n",
    "    {\n",
    "        \"symbol\": \"GRT\",\n",
    "        \"name\": \"The Graph\",\n",
    "        \"price_usd\": \"0.124238\",\n",
    "        \"percent_change_7d\": \"3.75\",\n",
    "        \"volume24\": 50745768.31360009,\n",
    "    },\n",
    "    {\n",
    "        \"symbol\": \"FRAX\",\n",
    "        \"name\": \"Frax\",\n",
    "        \"price_usd\": \"0.999128\",\n",
    "        \"percent_change_7d\": \"0.54\",\n",
    "        \"volume24\": 10112664.516622534,\n",
    "    },\n",
    "    {\n",
    "        \"symbol\": \"TUSD\",\n",
    "        \"name\": \"TrueUSD\",\n",
    "        \"price_usd\": \"0.999479\",\n",
    "        \"percent_change_7d\": \"-0.05\",\n",
    "        \"volume24\": 3269190962.729144,\n",
    "    },\n",
    "    {\n",
    "        \"symbol\": \"STX\",\n",
    "        \"name\": \"Stacks\",\n",
    "        \"price_usd\": \"0.680968\",\n",
    "        \"percent_change_7d\": \"4.52\",\n",
    "        \"volume24\": 72956976.43657969,\n",
    "    },\n",
    "    {\n",
    "        \"symbol\": \"MKR\",\n",
    "        \"name\": \"Maker\",\n",
    "        \"price_usd\": \"913.72\",\n",
    "        \"percent_change_7d\": \"-9.45\",\n",
    "        \"volume24\": 325122162.91072315,\n",
    "    },\n",
    "    {\n",
    "        \"symbol\": \"EOS\",\n",
    "        \"name\": \"EOS\",\n",
    "        \"price_usd\": \"0.804691\",\n",
    "        \"percent_change_7d\": \"12.59\",\n",
    "        \"volume24\": 218036299.95140857,\n",
    "    },\n",
    "    {\n",
    "        \"symbol\": \"USDP\",\n",
    "        \"name\": \"Pax Dollar\",\n",
    "        \"price_usd\": \"0.999809\",\n",
    "        \"percent_change_7d\": \"-0.08\",\n",
    "        \"volume24\": 1627155.176109821,\n",
    "    },\n",
    "    {\n",
    "        \"symbol\": \"ALGO\",\n",
    "        \"name\": \"Algorand\",\n",
    "        \"price_usd\": \"0.118303\",\n",
    "        \"percent_change_7d\": \"3.50\",\n",
    "        \"volume24\": 175432880.12364262,\n",
    "    },\n",
    "    {\n",
    "        \"symbol\": \"XTZ\",\n",
    "        \"name\": \"Tezos\",\n",
    "        \"price_usd\": \"0.902678\",\n",
    "        \"percent_change_7d\": \"14.45\",\n",
    "        \"volume24\": 17862226.065150194,\n",
    "    },\n",
    "    {\n",
    "        \"symbol\": \"FTM\",\n",
    "        \"name\": \"Fantom\",\n",
    "        \"price_usd\": \"0.299238\",\n",
    "        \"percent_change_7d\": \"11.48\",\n",
    "        \"volume24\": 187495267.91607383,\n",
    "    },\n",
    "    {\n",
    "        \"symbol\": \"THETA\",\n",
    "        \"name\": \"Theta Token\",\n",
    "        \"price_usd\": \"0.827153\",\n",
    "        \"percent_change_7d\": \"14.36\",\n",
    "        \"volume24\": 39602951.52502267,\n",
    "    },\n",
    "    {\n",
    "        \"symbol\": \"MANA\",\n",
    "        \"name\": \"Decentraland\",\n",
    "        \"price_usd\": \"0.433536\",\n",
    "        \"percent_change_7d\": \"14.95\",\n",
    "        \"volume24\": 125883681.50783731,\n",
    "    },\n",
    "    {\n",
    "        \"symbol\": \"BCHSV\",\n",
    "        \"name\": \"Bitcoin SV\",\n",
    "        \"price_usd\": \"39.35\",\n",
    "        \"percent_change_7d\": \"-10.48\",\n",
    "        \"volume24\": 65176121.64507406,\n",
    "    },\n",
    "    {\n",
    "        \"symbol\": \"USDD\",\n",
    "        \"name\": \"USDD\",\n",
    "        \"price_usd\": \"1.00\",\n",
    "        \"percent_change_7d\": \"0.18\",\n",
    "        \"volume24\": 10943706.717842644,\n",
    "    },\n",
    "    {\n",
    "        \"symbol\": \"SAND\",\n",
    "        \"name\": \"The Sandbox\",\n",
    "        \"price_usd\": \"0.467742\",\n",
    "        \"percent_change_7d\": \"12.10\",\n",
    "        \"volume24\": 200640950.97449806,\n",
    "    },\n",
    "    {\n",
    "        \"symbol\": \"PEPE\",\n",
    "        \"name\": \"Pepe\",\n",
    "        \"price_usd\": \"0.000002\",\n",
    "        \"percent_change_7d\": \"11.25\",\n",
    "        \"volume24\": 406548396.3096544,\n",
    "    },\n",
    "    {\n",
    "        \"symbol\": \"APE\",\n",
    "        \"name\": \"APEcoin\",\n",
    "        \"price_usd\": \"2.21\",\n",
    "        \"percent_change_7d\": \"14.72\",\n",
    "        \"volume24\": 296669905.1748844,\n",
    "    },\n",
    "    {\n",
    "        \"symbol\": \"NEO\",\n",
    "        \"name\": \"Neo\",\n",
    "        \"price_usd\": \"9.59\",\n",
    "        \"percent_change_7d\": \"5.63\",\n",
    "        \"volume24\": 87953825.32299156,\n",
    "    },\n",
    "    {\n",
    "        \"symbol\": \"FLOW\",\n",
    "        \"name\": \"Flow\",\n",
    "        \"price_usd\": \"0.652914\",\n",
    "        \"percent_change_7d\": \"4.75\",\n",
    "        \"volume24\": 88816184.52336611,\n",
    "    },\n",
    "    {\n",
    "        \"symbol\": \"AXS\",\n",
    "        \"name\": \"Axie Infinity\",\n",
    "        \"price_usd\": \"6.63\",\n",
    "        \"percent_change_7d\": \"12.65\",\n",
    "        \"volume24\": 173301949.07415962,\n",
    "    },\n",
    "    {\n",
    "        \"symbol\": \"CRV\",\n",
    "        \"name\": \"Curve DAO Token\",\n",
    "        \"price_usd\": \"0.863588\",\n",
    "        \"percent_change_7d\": \"17.72\",\n",
    "        \"volume24\": 34442558.73801766,\n",
    "    },\n",
    "    {\n",
    "        \"symbol\": \"INJ\",\n",
    "        \"name\": \"Injective Protocol\",\n",
    "        \"price_usd\": \"9.64\",\n",
    "        \"percent_change_7d\": \"21.61\",\n",
    "        \"volume24\": 214944721.17498806,\n",
    "    },\n",
    "    {\n",
    "        \"symbol\": \"PHB\",\n",
    "        \"name\": \"Red Pulse Phoenix\",\n",
    "        \"price_usd\": \"0.739450\",\n",
    "        \"percent_change_7d\": \"11.41\",\n",
    "        \"volume24\": 2127239.3825587,\n",
    "    },\n",
    "    {\n",
    "        \"symbol\": \"XEC\",\n",
    "        \"name\": \"eCash\",\n",
    "        \"price_usd\": \"0.000031\",\n",
    "        \"percent_change_7d\": \"-19.12\",\n",
    "        \"volume24\": 17398291.14119232,\n",
    "    },\n",
    "    {\n",
    "        \"symbol\": \"CRO\",\n",
    "        \"name\": \"Crypto.com Chain\",\n",
    "        \"price_usd\": \"0.060308\",\n",
    "        \"percent_change_7d\": \"6.23\",\n",
    "        \"volume24\": 10125581.086761687,\n",
    "    },\n",
    "    {\n",
    "        \"symbol\": \"CHZ\",\n",
    "        \"name\": \"Chiliz\",\n",
    "        \"price_usd\": \"0.083790\",\n",
    "        \"percent_change_7d\": \"10.56\",\n",
    "        \"volume24\": 46253360.29975289,\n",
    "    },\n",
    "    {\n",
    "        \"symbol\": \"KCS\",\n",
    "        \"name\": \"KuCoin Shares\",\n",
    "        \"price_usd\": \"6.24\",\n",
    "        \"percent_change_7d\": \"-1.52\",\n",
    "        \"volume24\": 3496576.426964752,\n",
    "    },\n",
    "    {\n",
    "        \"symbol\": \"KLAY\",\n",
    "        \"name\": \"Klaytn\",\n",
    "        \"price_usd\": \"0.177168\",\n",
    "        \"percent_change_7d\": \"5.05\",\n",
    "        \"volume24\": 19656059.820330244,\n",
    "    },\n",
    "    {\n",
    "        \"symbol\": \"RNDR\",\n",
    "        \"name\": \"Render Token\",\n",
    "        \"price_usd\": \"2.14\",\n",
    "        \"percent_change_7d\": \"10.64\",\n",
    "        \"volume24\": 92808359.23988137,\n",
    "    },\n",
    "    {\n",
    "        \"symbol\": \"FTT\",\n",
    "        \"name\": \"FTX Token\",\n",
    "        \"price_usd\": \"1.64\",\n",
    "        \"percent_change_7d\": \"10.01\",\n",
    "        \"volume24\": 53872321.04347122,\n",
    "    },\n",
    "    {\n",
    "        \"symbol\": \"MIOTA\",\n",
    "        \"name\": \"IOTA\",\n",
    "        \"price_usd\": \"0.192000\",\n",
    "        \"percent_change_7d\": \"4.59\",\n",
    "        \"volume24\": 8649448.187102558,\n",
    "    },\n",
    "    {\n",
    "        \"symbol\": \"ZEC\",\n",
    "        \"name\": \"Zcash\",\n",
    "        \"price_usd\": \"32.34\",\n",
    "        \"percent_change_7d\": \"3.78\",\n",
    "        \"volume24\": 234082644.50086042,\n",
    "    },\n",
    "    {\n",
    "        \"symbol\": \"PAXG\",\n",
    "        \"name\": \"PAX Gold\",\n",
    "        \"price_usd\": \"1935.85\",\n",
    "        \"percent_change_7d\": \"2.19\",\n",
    "        \"volume24\": 812583422.7762803,\n",
    "    },\n",
    "    {\n",
    "        \"symbol\": \"LUNC\",\n",
    "        \"name\": \"Terra Classic\",\n",
    "        \"price_usd\": \"0.000088\",\n",
    "        \"percent_change_7d\": \"5.29\",\n",
    "        \"volume24\": 29817037.116504386,\n",
    "    },\n",
    "    {\n",
    "        \"symbol\": \"HBAR\",\n",
    "        \"name\": \"Hedera Hashgraph\",\n",
    "        \"price_usd\": \"0.053269\",\n",
    "        \"percent_change_7d\": \"14.34\",\n",
    "        \"volume24\": 41598576.611335196,\n",
    "    },\n",
    "    {\n",
    "        \"symbol\": \"TACO\",\n",
    "        \"name\": \"Tacos\",\n",
    "        \"price_usd\": \"78.94\",\n",
    "        \"percent_change_7d\": \"18.34\",\n",
    "        \"volume24\": 6717589.401493353,\n",
    "    },\n",
    "    {\n",
    "        \"symbol\": \"EGLD\",\n",
    "        \"name\": \"Elrond eGold\",\n",
    "        \"price_usd\": \"37.59\",\n",
    "        \"percent_change_7d\": \"11.35\",\n",
    "        \"volume24\": 22131636.4517117,\n",
    "    },\n",
    "    {\n",
    "        \"symbol\": \"GMX\",\n",
    "        \"name\": \"GMX\",\n",
    "        \"price_usd\": \"60.02\",\n",
    "        \"percent_change_7d\": \"9.75\",\n",
    "        \"volume24\": 30717637.271570735,\n",
    "    },\n",
    "    {\n",
    "        \"symbol\": \"COMP\",\n",
    "        \"name\": \"Compound\",\n",
    "        \"price_usd\": \"68.31\",\n",
    "        \"percent_change_7d\": \"17.87\",\n",
    "        \"volume24\": 123188541.96973641,\n",
    "    },\n",
    "    {\n",
    "        \"symbol\": \"TKX\",\n",
    "        \"name\": \"Tokenize Xchange\",\n",
    "        \"price_usd\": \"6.19\",\n",
    "        \"percent_change_7d\": \"7.04\",\n",
    "        \"volume24\": 11293471.330545316,\n",
    "    },\n",
    "    {\n",
    "        \"symbol\": \"XAUT\",\n",
    "        \"name\": \"Tether Gold\",\n",
    "        \"price_usd\": \"1959.50\",\n",
    "        \"percent_change_7d\": \"2.51\",\n",
    "        \"volume24\": 6054015.365067729,\n",
    "    },\n",
    "    {\n",
    "        \"symbol\": \"KAS\",\n",
    "        \"name\": \"Kaspa\",\n",
    "        \"price_usd\": \"0.028860\",\n",
    "        \"percent_change_7d\": \"33.85\",\n",
    "        \"volume24\": 12770039.919820618,\n",
    "    },\n",
    "    {\n",
    "        \"symbol\": \"HT\",\n",
    "        \"name\": \"Huobi Token\",\n",
    "        \"price_usd\": \"2.78\",\n",
    "        \"percent_change_7d\": \"3.13\",\n",
    "        \"volume24\": 12653864.943357613,\n",
    "    },\n",
    "    {\n",
    "        \"symbol\": \"CSPR\",\n",
    "        \"name\": \"Casper\",\n",
    "        \"price_usd\": \"0.038206\",\n",
    "        \"percent_change_7d\": \"1.91\",\n",
    "        \"volume24\": 5576587.639663127,\n",
    "    },\n",
    "    {\n",
    "        \"symbol\": \"DASH\",\n",
    "        \"name\": \"Dash\",\n",
    "        \"price_usd\": \"35.85\",\n",
    "        \"percent_change_7d\": \"5.28\",\n",
    "        \"volume24\": 71757437.09998573,\n",
    "    },\n",
    "    {\n",
    "        \"symbol\": \"XDCE\",\n",
    "        \"name\": \"XinFin Network\",\n",
    "        \"price_usd\": \"0.032674\",\n",
    "        \"percent_change_7d\": \"1.71\",\n",
    "        \"volume24\": 1776317.812194609,\n",
    "    },\n",
    "    {\n",
    "        \"symbol\": \"KAVA\",\n",
    "        \"name\": \"Kava\",\n",
    "        \"price_usd\": \"0.967047\",\n",
    "        \"percent_change_7d\": \"4.15\",\n",
    "        \"volume24\": 73097054.46498355,\n",
    "    },\n",
    "    {\n",
    "        \"symbol\": \"RPL\",\n",
    "        \"name\": \"Rocket Pool\",\n",
    "        \"price_usd\": \"37.84\",\n",
    "        \"percent_change_7d\": \"-1.74\",\n",
    "        \"volume24\": 1054669.705829167,\n",
    "    },\n",
    "    {\n",
    "        \"symbol\": \"SUI\",\n",
    "        \"name\": \"Sui\",\n",
    "        \"price_usd\": \"0.725466\",\n",
    "        \"percent_change_7d\": \"11.08\",\n",
    "        \"volume24\": 92574462.3637904,\n",
    "    },\n",
    "    {\n",
    "        \"symbol\": \"NEXO\",\n",
    "        \"name\": \"Nexo\",\n",
    "        \"price_usd\": \"0.658019\",\n",
    "        \"percent_change_7d\": \"4.53\",\n",
    "        \"volume24\": 5663554.267356189,\n",
    "    },\n",
    "    {\n",
    "        \"symbol\": \"FLEX\",\n",
    "        \"name\": \"FLEX Coin\",\n",
    "        \"price_usd\": \"3.66\",\n",
    "        \"percent_change_7d\": \"0.04\",\n",
    "        \"volume24\": 320013.9077801702,\n",
    "    },\n",
    "    {\n",
    "        \"symbol\": \"ZIL\",\n",
    "        \"name\": \"Zilliqa\",\n",
    "        \"price_usd\": \"0.022452\",\n",
    "        \"percent_change_7d\": \"8.17\",\n",
    "        \"volume24\": 40085286.38067658,\n",
    "    },\n",
    "    {\n",
    "        \"symbol\": \"TWT\",\n",
    "        \"name\": \"Trust Wallet Token\",\n",
    "        \"price_usd\": \"0.854440\",\n",
    "        \"percent_change_7d\": \"-0.84\",\n",
    "        \"volume24\": 16348028.542735066,\n",
    "    },\n",
    "    {\n",
    "        \"symbol\": \"RUNE\",\n",
    "        \"name\": \"THORChain\",\n",
    "        \"price_usd\": \"1.07\",\n",
    "        \"percent_change_7d\": \"5.55\",\n",
    "        \"volume24\": 12001247.683048533,\n",
    "    },\n",
    "    {\n",
    "        \"symbol\": \"FEI\",\n",
    "        \"name\": \"Fei USD\",\n",
    "        \"price_usd\": \"0.815600\",\n",
    "        \"percent_change_7d\": \"-11.06\",\n",
    "        \"volume24\": 940166.3214333741,\n",
    "    },\n",
    "    {\n",
    "        \"symbol\": \"SNX\",\n",
    "        \"name\": \"Synthetix Network Token\",\n",
    "        \"price_usd\": \"2.95\",\n",
    "        \"percent_change_7d\": \"41.08\",\n",
    "        \"volume24\": 311179071.90065503,\n",
    "    },\n",
    "    {\n",
    "        \"symbol\": \"DYDX\",\n",
    "        \"name\": \"dYdX\",\n",
    "        \"price_usd\": \"2.14\",\n",
    "        \"percent_change_7d\": \"15.76\",\n",
    "        \"volume24\": 74017943.36035483,\n",
    "    },\n",
    "    {\n",
    "        \"symbol\": \"AGIX\",\n",
    "        \"name\": \"SingularityNET\",\n",
    "        \"price_usd\": \"0.274559\",\n",
    "        \"percent_change_7d\": \"18.35\",\n",
    "        \"volume24\": 195860297.72295615,\n",
    "    },\n",
    "    {\n",
    "        \"symbol\": \"LRC\",\n",
    "        \"name\": \"Loopring\",\n",
    "        \"price_usd\": \"0.243839\",\n",
    "        \"percent_change_7d\": \"7.30\",\n",
    "        \"volume24\": 37783839.42544796,\n",
    "    },\n",
    "    {\n",
    "        \"symbol\": \"ENJ\",\n",
    "        \"name\": \"Enjin Coin\",\n",
    "        \"price_usd\": \"0.319967\",\n",
    "        \"percent_change_7d\": \"8.14\",\n",
    "        \"volume24\": 22514225.851048034,\n",
    "    },\n",
    "    {\n",
    "        \"symbol\": \"BAT\",\n",
    "        \"name\": \"Basic Attention Token\",\n",
    "        \"price_usd\": \"0.213415\",\n",
    "        \"percent_change_7d\": \"11.79\",\n",
    "        \"volume24\": 19548090.541221704,\n",
    "    },\n",
    "    {\n",
    "        \"symbol\": \"GNO\",\n",
    "        \"name\": \"Gnosis\",\n",
    "        \"price_usd\": \"121.48\",\n",
    "        \"percent_change_7d\": \"7.51\",\n",
    "        \"volume24\": 2013836.000557435,\n",
    "    },\n",
    "    {\n",
    "        \"symbol\": \"CVX\",\n",
    "        \"name\": \"Convex Finance\",\n",
    "        \"price_usd\": \"4.22\",\n",
    "        \"percent_change_7d\": \"6.44\",\n",
    "        \"volume24\": 2635140.659348456,\n",
    "    },\n",
    "    {\n",
    "        \"symbol\": \"OP\",\n",
    "        \"name\": \"Optimism\",\n",
    "        \"price_usd\": \"1.45\",\n",
    "        \"percent_change_7d\": \"20.45\",\n",
    "        \"volume24\": 272662107.71766526,\n",
    "    },\n",
    "    {\n",
    "        \"symbol\": \"QTUM\",\n",
    "        \"name\": \"Qtum\",\n",
    "        \"price_usd\": \"2.91\",\n",
    "        \"percent_change_7d\": \"5.10\",\n",
    "        \"volume24\": 41268418.71165733,\n",
    "    },\n",
    "]"
   ]
  },
  {
   "cell_type": "markdown",
   "id": "0b2ad5d7",
   "metadata": {},
   "source": [
    "{% endcollapse %}"
   ]
  },
  {
   "cell_type": "markdown",
   "id": "3faff19e",
   "metadata": {},
   "source": [
    "This Python file contains a single large data structure. `DEMO_DATA` is a list of dictionaries, each containing the named fields of interest. The real API reports more than 2000 symbols, but these 100 will be enough for your demo."
   ]
  },
  {
   "cell_type": "markdown",
   "id": "971f082c",
   "metadata": {},
   "source": [
    "### Coding the Live Table"
   ]
  },
  {
   "cell_type": "markdown",
   "id": "49a85954",
   "metadata": {},
   "source": [
    "Next, you'll write the module `rich_showcase_table.py` containing the code to display the dynamic table. This code will import `DEMO_DATA` from the `rich_showcase_data` module. "
   ]
  },
  {
   "cell_type": "markdown",
   "id": "c73c7b97",
   "metadata": {},
   "source": [
    "Your new module contains a single main function, `make_table(coin_list)`. This function uses Rich's `Table` class to generate a formatted table containing a section of the `DEMO_DATA`.\n",
    "Then in the main module code, you will use the `Live` object's `update()` method to wrap a call to `make_table()` whenever your code updates the table data:"
   ]
  },
  {
   "cell_type": "code",
   "execution_count": null,
   "id": "e07e6872",
   "metadata": {},
   "outputs": [],
   "source": [
    "# Python\n",
    "import time\n",
    "from rich.table import Table\n",
    "from rich.live import Live\n",
    "from rich.console import Console\n",
    "from rich_showcase_data import DEMO_DATA\n",
    "\n",
    "\n",
    "def make_table(coin_list):\n",
    "    \"\"\"Generate a rich table from a list of coins\"\"\"\n",
    "    table = Table(\n",
    "        title=\"Crypto Data - \" + time.asctime(),\n",
    "        style=\"black on grey66\",\n",
    "        header_style=\"white on dark_blue\",\n",
    "    )\n",
    "    table.add_column(\"Symbol\")\n",
    "    table.add_column(\"Name\", width=30)\n",
    "    table.add_column(\"Price (USD)\", justify=\"right\")\n",
    "    table.add_column(\"Volume (24h)\", justify=\"right\")\n",
    "    table.add_column(\"Percent Change (7d)\", justify=\"right\", width=8)\n",
    "    for coin in coin_list:\n",
    "        symbol, name, price, volume, pct_change = (\n",
    "            coin[\"symbol\"],\n",
    "            coin[\"name\"],\n",
    "            str(coin[\"price_usd\"]),\n",
    "            str(coin[\"volume24\"]),\n",
    "            float(coin[\"percent_change_7d\"]),\n",
    "        )\n",
    "        pct_change_str = f\"{pct_change:2.1f}%\"\n",
    "        if pct_change > 5.0:\n",
    "            pct_change_str = f\"[white on dark_green]{pct_change_str:>8}[/white on dark_green]\"\n",
    "        elif pct_change < -5.0:\n",
    "            pct_change_str = (\n",
    "                f\"[white on red]{pct_change_str:>8}[/white on red]\"\n",
    "            )\n",
    "        table.add_row(symbol, name, price, volume, pct_change_str)\n",
    "    return table\n",
    "\n",
    "\n",
    "coins = DEMO_DATA\n",
    "console = Console()\n",
    "num_lines = 20\n",
    "\n",
    "with Live(make_table(coins[:num_lines]), screen=True) as live:\n",
    "    index = 0\n",
    "    try:\n",
    "        while True:\n",
    "            overlap = num_lines - (len(coins) - index)\n",
    "            if overlap <= 0:\n",
    "                lines = coins[index : index + num_lines]\n",
    "            else:\n",
    "                lines = coins[index:] + coins[:overlap]\n",
    "            live.update(make_table(lines))\n",
    "            time.sleep(0.5)\n",
    "            index = (index + 1) % len(coins)\n",
    "    except KeyboardInterrupt:\n",
    "        pass"
   ]
  },
  {
   "cell_type": "markdown",
   "id": "37ad8ae4",
   "metadata": {},
   "source": [
    "The `make_table()` function starting at **line 8** is similar to the code you wrote previously for the static table of noble gasses. There's just one embellishment: **lines 29-34** provide different formatting for the `pct_change` field depending on whether it is greater than 5%, less than -5%, or between these two values."
   ]
  },
  {
   "cell_type": "markdown",
   "id": "13a76674",
   "metadata": {},
   "source": [
    "The `num_lines` variable (**line 40**) determines the number of lines in the displayed table.\n",
    "The animation magic happens when the `Live` context manager is invoked starting at **line 42**."
   ]
  },
  {
   "cell_type": "markdown",
   "id": "510f928f",
   "metadata": {},
   "source": [
    "The optional `screen=True` parameter enables a nifty feature of `Live`: the original text display is saved and the `Live` text appears on an \"alternate screen\". The effect of this is that the original display will be seamlessly restored when the function returns and exits the `Live` context."
   ]
  },
  {
   "cell_type": "markdown",
   "id": "e23b1130",
   "metadata": {},
   "source": [
    "The first parameter passed to `Live` is `make_table()`, which will be called each time the display is updated. On its first call in **line 42**, `make_table()` receives the first `nlines` rows of coin data. In subsequent calls (wrapped in `live.update()`, **Line 51**), the data is progressively scrolled, using the `index` value as the starting point."
   ]
  },
  {
   "cell_type": "markdown",
   "id": "8235932c",
   "metadata": {},
   "source": [
    "The remainder of the code inside the animation context updates the `index` variable and uses it together with `num_lines` and `len(coins)` to set the starting and ending points within the `coin_data` to select the lines to be displayed. The `index` value wraps around as needed."
   ]
  },
  {
   "cell_type": "markdown",
   "id": "7e064d61",
   "metadata": {},
   "source": [
    "Notice that the live-update code occurs within an infinite loop. When you're tired of admiring your scrolling table, you can interrupt the code by pressing ++ctrl+c++. That invokes the `try...except` exception handler, which exits the loop and the context manager, stops the animation and returns cleanly to your previous display."
   ]
  },
  {
   "cell_type": "markdown",
   "id": "5d2eca33",
   "metadata": {},
   "source": [
    "You can invoke the table demo from the OS console:"
   ]
  },
  {
   "cell_type": "markdown",
   "id": "b2fe4eae",
   "metadata": {},
   "source": [
    "```console\n",
    "(venv) $ python rich_showcase_table.py\n",
    "```"
   ]
  },
  {
   "cell_type": "markdown",
   "id": "55037dc2",
   "metadata": {},
   "source": [
    "This will display a scrolling table of twenty lines:"
   ]
  },
  {
   "cell_type": "markdown",
   "id": "41cad2a1",
   "metadata": {},
   "source": [
    "{% vimeo \"877425433\" gifmode=True border=True %}"
   ]
  },
  {
   "cell_type": "markdown",
   "id": "d1e5e21d",
   "metadata": {},
   "source": [
    "If you'd like to see a different table height, you can modify `num_lines` in the code, or even make it a parameter for your script. You can probably think of plenty of ways to improve this table and make it suit your use case. But regardless of what you do to tweak your table, you have an attractive animation that should delight the user."
   ]
  },
  {
   "cell_type": "markdown",
   "id": "836f5d4c",
   "metadata": {},
   "source": [
    "## Conclusion"
   ]
  },
  {
   "cell_type": "markdown",
   "id": "824fcb68",
   "metadata": {},
   "source": [
    "Congratulations on completing this whirlwind introduction to Python's Rich library! You've built an animated, highlighted table display that could be the main component in a real-time data dashboard.  Along the way, you've learned about using Rich in your development toolkit, and also how to produce and style attractive end-user displays and lively status and progress widgets."
   ]
  },
  {
   "cell_type": "markdown",
   "id": "66717fe2",
   "metadata": {},
   "source": [
    "In this tutorial, you've explored several aspects of Rich. In particular, you've seen:"
   ]
  },
  {
   "cell_type": "markdown",
   "id": "c954aa10",
   "metadata": {},
   "source": [
    "- How Rich can add eye-appeal and helpful detail during coding, debugging and logging.\n",
    "- How to generate entertaining and informative animations to keep your user engaged during lengthy processing.\n",
    "- How to create a scrolling dashboard display that you could use to monitor a remote process."
   ]
  },
  {
   "cell_type": "markdown",
   "id": "fe8a6ef6",
   "metadata": {},
   "source": [
    "Now you're equipped to start using Rich to enhance your development experience, or to create an engaging TUI for your command-line application!"
   ]
  },
  {
   "cell_type": "markdown",
   "id": "859e95e8",
   "metadata": {},
   "source": [
    "Do you see a role for Rich in your next project? Have you found more ways to exploit its power to create engaging user experiences? Leave a note in the comments below to share your insights!"
   ]
  },
  {
   "cell_type": "markdown",
   "id": "9e4f441e",
   "metadata": {},
   "source": [
    "## Next Steps"
   ]
  },
  {
   "cell_type": "markdown",
   "id": "e6e8aace",
   "metadata": {},
   "source": [
    "There's plenty left to explore about Rich. We've only scratched the surface here. There is much more information in the [Rich documentation](https://rich.readthedocs.io/en/stable/introduction.html).\n",
    "A nice starter project might be to [Build a Wordle Clone](https://realpython.com/python-wordle-clone/) using Rich."
   ]
  },
  {
   "cell_type": "markdown",
   "id": "c2055dc3",
   "metadata": {},
   "source": [
    "Rich gives you a lot of control over layout, formatting and paging, and supports all types of terminals. It also supports some limited forms of interactive input, though for a fully-interactive TUI experience, you'll want to investigate [Textual](https://textual.textualize.io/) to see what that package has to offer."
   ]
  },
  {
   "cell_type": "markdown",
   "id": "220978c7",
   "metadata": {},
   "source": [
    "If you'd like to hear more from Will McGugan, the developer of Rich, then you can check out his [Python community interview](https://realpython.com/interview-will-mcgugan/) or [podcast episode](https://realpython.com/podcasts/rpp/80/) here at Real Python. He also has a [blog](https://www.willmcgugan.com/) where he talks about his aims for Rich and Textual."
   ]
  }
 ],
 "metadata": {
  "kernelspec": {
   "argv": [
    "python",
    "-m",
    "ipykernel_launcher",
    "-f",
    "{connection_file}"
   ],
   "display_name": "Python 3 (ipykernel)",
   "env": {},
   "interrupt_mode": "signal",
   "language": "python",
   "metadata": {
    "debugger": true
   },
   "name": "python3"
  },
  "language": "python"
 },
 "nbformat": 4,
 "nbformat_minor": 5
}
